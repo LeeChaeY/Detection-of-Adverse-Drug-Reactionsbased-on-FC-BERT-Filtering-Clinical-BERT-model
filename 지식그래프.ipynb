{
  "nbformat": 4,
  "nbformat_minor": 0,
  "metadata": {
    "colab": {
      "name": "지식그래프.ipynb",
      "provenance": [],
      "collapsed_sections": [
        "n_XRowyuEaA5"
      ]
    },
    "kernelspec": {
      "name": "python3",
      "display_name": "Python 3"
    },
    "language_info": {
      "name": "python"
    }
  },
  "cells": [
    {
      "cell_type": "code",
      "metadata": {
        "colab": {
          "base_uri": "https://localhost:8080/"
        },
        "id": "q8L0Zkc1An8a",
        "outputId": "3f643f14-8d64-4158-ee33-a1b61836d929"
      },
      "source": [
        "!pip install spacy"
      ],
      "execution_count": 23,
      "outputs": [
        {
          "output_type": "stream",
          "name": "stdout",
          "text": [
            "Requirement already satisfied: spacy in /usr/local/lib/python3.7/dist-packages (2.2.4)\n",
            "Requirement already satisfied: preshed<3.1.0,>=3.0.2 in /usr/local/lib/python3.7/dist-packages (from spacy) (3.0.5)\n",
            "Requirement already satisfied: plac<1.2.0,>=0.9.6 in /usr/local/lib/python3.7/dist-packages (from spacy) (1.1.3)\n",
            "Requirement already satisfied: catalogue<1.1.0,>=0.0.7 in /usr/local/lib/python3.7/dist-packages (from spacy) (1.0.0)\n",
            "Requirement already satisfied: murmurhash<1.1.0,>=0.28.0 in /usr/local/lib/python3.7/dist-packages (from spacy) (1.0.5)\n",
            "Requirement already satisfied: requests<3.0.0,>=2.13.0 in /usr/local/lib/python3.7/dist-packages (from spacy) (2.23.0)\n",
            "Requirement already satisfied: tqdm<5.0.0,>=4.38.0 in /usr/local/lib/python3.7/dist-packages (from spacy) (4.62.2)\n",
            "Requirement already satisfied: cymem<2.1.0,>=2.0.2 in /usr/local/lib/python3.7/dist-packages (from spacy) (2.0.5)\n",
            "Requirement already satisfied: blis<0.5.0,>=0.4.0 in /usr/local/lib/python3.7/dist-packages (from spacy) (0.4.1)\n",
            "Requirement already satisfied: setuptools in /usr/local/lib/python3.7/dist-packages (from spacy) (57.4.0)\n",
            "Requirement already satisfied: thinc==7.4.0 in /usr/local/lib/python3.7/dist-packages (from spacy) (7.4.0)\n",
            "Requirement already satisfied: numpy>=1.15.0 in /usr/local/lib/python3.7/dist-packages (from spacy) (1.19.5)\n",
            "Requirement already satisfied: srsly<1.1.0,>=1.0.2 in /usr/local/lib/python3.7/dist-packages (from spacy) (1.0.5)\n",
            "Requirement already satisfied: wasabi<1.1.0,>=0.4.0 in /usr/local/lib/python3.7/dist-packages (from spacy) (0.8.2)\n",
            "Requirement already satisfied: importlib-metadata>=0.20 in /usr/local/lib/python3.7/dist-packages (from catalogue<1.1.0,>=0.0.7->spacy) (4.8.1)\n",
            "Requirement already satisfied: zipp>=0.5 in /usr/local/lib/python3.7/dist-packages (from importlib-metadata>=0.20->catalogue<1.1.0,>=0.0.7->spacy) (3.5.0)\n",
            "Requirement already satisfied: typing-extensions>=3.6.4 in /usr/local/lib/python3.7/dist-packages (from importlib-metadata>=0.20->catalogue<1.1.0,>=0.0.7->spacy) (3.7.4.3)\n",
            "Requirement already satisfied: urllib3!=1.25.0,!=1.25.1,<1.26,>=1.21.1 in /usr/local/lib/python3.7/dist-packages (from requests<3.0.0,>=2.13.0->spacy) (1.24.3)\n",
            "Requirement already satisfied: certifi>=2017.4.17 in /usr/local/lib/python3.7/dist-packages (from requests<3.0.0,>=2.13.0->spacy) (2021.5.30)\n",
            "Requirement already satisfied: idna<3,>=2.5 in /usr/local/lib/python3.7/dist-packages (from requests<3.0.0,>=2.13.0->spacy) (2.10)\n",
            "Requirement already satisfied: chardet<4,>=3.0.2 in /usr/local/lib/python3.7/dist-packages (from requests<3.0.0,>=2.13.0->spacy) (3.0.4)\n"
          ]
        }
      ]
    },
    {
      "cell_type": "code",
      "metadata": {
        "colab": {
          "base_uri": "https://localhost:8080/"
        },
        "id": "iN46h_tIDKe8",
        "outputId": "02a6e969-1ff9-4164-9c97-b40e6b4272f6"
      },
      "source": [
        "#구글드라이브 연동\n",
        "from google.colab import drive\n",
        "import pandas as pd\n",
        "import numpy as np\n",
        "drive.mount('/content/drive')"
      ],
      "execution_count": 1,
      "outputs": [
        {
          "output_type": "stream",
          "name": "stdout",
          "text": [
            "Drive already mounted at /content/drive; to attempt to forcibly remount, call drive.mount(\"/content/drive\", force_remount=True).\n"
          ]
        }
      ]
    },
    {
      "cell_type": "markdown",
      "metadata": {
        "id": "VrJaVihyTVCz"
      },
      "source": [
        "##1"
      ]
    },
    {
      "cell_type": "code",
      "metadata": {
        "colab": {
          "base_uri": "https://localhost:8080/"
        },
        "id": "QLU3R-aNTVC0",
        "outputId": "4ff8aad7-31bc-4e75-d82c-a16bab466b37"
      },
      "source": [
        "# https://programmerbackpack.com/python-nlp-tutorial-information-extraction-and-knowledge-graphs/ \n",
        "# https://github.com/bdmarius/python-knowledge-graph/blob/master/knowledgegraph.py \n",
        "\n",
        "!python3 -m spacy download en_core_web_sm"
      ],
      "execution_count": 52,
      "outputs": [
        {
          "output_type": "stream",
          "name": "stdout",
          "text": [
            "Collecting en_core_web_sm==2.2.5\n",
            "  Downloading https://github.com/explosion/spacy-models/releases/download/en_core_web_sm-2.2.5/en_core_web_sm-2.2.5.tar.gz (12.0 MB)\n",
            "\u001b[K     |████████████████████████████████| 12.0 MB 13.2 MB/s \n",
            "\u001b[?25hRequirement already satisfied: spacy>=2.2.2 in /usr/local/lib/python3.7/dist-packages (from en_core_web_sm==2.2.5) (2.2.4)\n",
            "Requirement already satisfied: murmurhash<1.1.0,>=0.28.0 in /usr/local/lib/python3.7/dist-packages (from spacy>=2.2.2->en_core_web_sm==2.2.5) (1.0.5)\n",
            "Requirement already satisfied: thinc==7.4.0 in /usr/local/lib/python3.7/dist-packages (from spacy>=2.2.2->en_core_web_sm==2.2.5) (7.4.0)\n",
            "Requirement already satisfied: tqdm<5.0.0,>=4.38.0 in /usr/local/lib/python3.7/dist-packages (from spacy>=2.2.2->en_core_web_sm==2.2.5) (4.62.2)\n",
            "Requirement already satisfied: wasabi<1.1.0,>=0.4.0 in /usr/local/lib/python3.7/dist-packages (from spacy>=2.2.2->en_core_web_sm==2.2.5) (0.8.2)\n",
            "Requirement already satisfied: cymem<2.1.0,>=2.0.2 in /usr/local/lib/python3.7/dist-packages (from spacy>=2.2.2->en_core_web_sm==2.2.5) (2.0.5)\n",
            "Requirement already satisfied: setuptools in /usr/local/lib/python3.7/dist-packages (from spacy>=2.2.2->en_core_web_sm==2.2.5) (57.4.0)\n",
            "Requirement already satisfied: blis<0.5.0,>=0.4.0 in /usr/local/lib/python3.7/dist-packages (from spacy>=2.2.2->en_core_web_sm==2.2.5) (0.4.1)\n",
            "Requirement already satisfied: plac<1.2.0,>=0.9.6 in /usr/local/lib/python3.7/dist-packages (from spacy>=2.2.2->en_core_web_sm==2.2.5) (1.1.3)\n",
            "Requirement already satisfied: numpy>=1.15.0 in /usr/local/lib/python3.7/dist-packages (from spacy>=2.2.2->en_core_web_sm==2.2.5) (1.19.5)\n",
            "Requirement already satisfied: requests<3.0.0,>=2.13.0 in /usr/local/lib/python3.7/dist-packages (from spacy>=2.2.2->en_core_web_sm==2.2.5) (2.23.0)\n",
            "Requirement already satisfied: srsly<1.1.0,>=1.0.2 in /usr/local/lib/python3.7/dist-packages (from spacy>=2.2.2->en_core_web_sm==2.2.5) (1.0.5)\n",
            "Requirement already satisfied: preshed<3.1.0,>=3.0.2 in /usr/local/lib/python3.7/dist-packages (from spacy>=2.2.2->en_core_web_sm==2.2.5) (3.0.5)\n",
            "Requirement already satisfied: catalogue<1.1.0,>=0.0.7 in /usr/local/lib/python3.7/dist-packages (from spacy>=2.2.2->en_core_web_sm==2.2.5) (1.0.0)\n",
            "Requirement already satisfied: importlib-metadata>=0.20 in /usr/local/lib/python3.7/dist-packages (from catalogue<1.1.0,>=0.0.7->spacy>=2.2.2->en_core_web_sm==2.2.5) (4.8.1)\n",
            "Requirement already satisfied: typing-extensions>=3.6.4 in /usr/local/lib/python3.7/dist-packages (from importlib-metadata>=0.20->catalogue<1.1.0,>=0.0.7->spacy>=2.2.2->en_core_web_sm==2.2.5) (3.7.4.3)\n",
            "Requirement already satisfied: zipp>=0.5 in /usr/local/lib/python3.7/dist-packages (from importlib-metadata>=0.20->catalogue<1.1.0,>=0.0.7->spacy>=2.2.2->en_core_web_sm==2.2.5) (3.5.0)\n",
            "Requirement already satisfied: idna<3,>=2.5 in /usr/local/lib/python3.7/dist-packages (from requests<3.0.0,>=2.13.0->spacy>=2.2.2->en_core_web_sm==2.2.5) (2.10)\n",
            "Requirement already satisfied: urllib3!=1.25.0,!=1.25.1,<1.26,>=1.21.1 in /usr/local/lib/python3.7/dist-packages (from requests<3.0.0,>=2.13.0->spacy>=2.2.2->en_core_web_sm==2.2.5) (1.24.3)\n",
            "Requirement already satisfied: chardet<4,>=3.0.2 in /usr/local/lib/python3.7/dist-packages (from requests<3.0.0,>=2.13.0->spacy>=2.2.2->en_core_web_sm==2.2.5) (3.0.4)\n",
            "Requirement already satisfied: certifi>=2017.4.17 in /usr/local/lib/python3.7/dist-packages (from requests<3.0.0,>=2.13.0->spacy>=2.2.2->en_core_web_sm==2.2.5) (2021.5.30)\n",
            "\u001b[38;5;2m✔ Download and installation successful\u001b[0m\n",
            "You can now load the model via spacy.load('en_core_web_sm')\n"
          ]
        }
      ]
    },
    {
      "cell_type": "code",
      "metadata": {
        "id": "vUeDCyGymLAF"
      },
      "source": [
        "import spacy\n",
        "from spacy.lang.en import English\n",
        "import networkx as nx\n",
        "import matplotlib.pyplot as plt\n",
        "\n",
        "def getSentences(text):\n",
        "    nlp = English()\n",
        "    nlp.add_pipe(nlp.create_pipe('sentencizer'))\n",
        "    document = nlp(text)\n",
        "    return [sent.string.strip() for sent in document.sents]\n",
        "\n",
        "def printToken(token):\n",
        "    print(token.text, \"->\", token.dep_)\n",
        "\n",
        "def appendChunk(original, chunk):\n",
        "    return original + ' ' + chunk\n",
        "\n",
        "def isRelationCandidate(token):\n",
        "    deps = [\"ROOT\", \"adj\", \"attr\", \"agent\", \"amod\"]\n",
        "    return any(subs in token.dep_ for subs in deps)\n",
        "\n",
        "def isConstructionCandidate(token):\n",
        "    deps = [\"compound\", \"prep\", \"conj\", \"mod\"]\n",
        "    return any(subs in token.dep_ for subs in deps)\n",
        "\n",
        "def processSubjectObjectPairs(tokens):\n",
        "    subject = ''\n",
        "    object = ''\n",
        "    relation = ''\n",
        "    subjectConstruction = ''\n",
        "    objectConstruction = ''\n",
        "    for token in tokens:\n",
        "        printToken(token)\n",
        "        if \"punct\" in token.dep_:\n",
        "            continue\n",
        "        if isRelationCandidate(token):\n",
        "            relation = appendChunk(relation, token.lemma_)\n",
        "        if isConstructionCandidate(token):\n",
        "            if subjectConstruction:\n",
        "                subjectConstruction = appendChunk(subjectConstruction, token.text)\n",
        "            if objectConstruction:\n",
        "                objectConstruction = appendChunk(objectConstruction, token.text)\n",
        "        if \"subj\" in token.dep_:\n",
        "            subject = appendChunk(subject, token.text)\n",
        "            subject = appendChunk(subjectConstruction, subject)\n",
        "            subjectConstruction = ''\n",
        "        if \"obj\" in token.dep_:\n",
        "            object = appendChunk(object, token.text)\n",
        "            object = appendChunk(objectConstruction, object)\n",
        "            objectConstruction = ''\n",
        "\n",
        "    print (subject.strip(), \",\", relation.strip(), \",\", object.strip())\n",
        "    return (subject.strip(), relation.strip(), object.strip())\n",
        "\n",
        "def processSentence(sentence):\n",
        "    tokens = nlp_model(sentence)\n",
        "    return processSubjectObjectPairs(tokens)\n",
        "\n",
        "def printGraph(triples):\n",
        "    G = nx.Graph()\n",
        "    for triple in triples:\n",
        "        G.add_node(triple[0])\n",
        "        G.add_node(triple[1])\n",
        "        G.add_node(triple[2])\n",
        "        G.add_edge(triple[0], triple[1])\n",
        "        G.add_edge(triple[1], triple[2])\n",
        "\n",
        "    pos = nx.spring_layout(G)\n",
        "    plt.figure(figsize=(20,20))\n",
        "    nx.draw(G, pos, edge_color='black', width=1, linewidths=1,\n",
        "            node_size=500, node_color='seagreen', alpha=0.9,\n",
        "            labels={node: node for node in G.nodes()})\n",
        "    plt.axis('off')\n",
        "    plt.show()    "
      ],
      "execution_count": 125,
      "outputs": []
    },
    {
      "cell_type": "code",
      "metadata": {
        "colab": {
          "base_uri": "https://localhost:8080/",
          "height": 111
        },
        "id": "4jb37xeAozOj",
        "outputId": "040b52bd-1448-437f-e134-5486301e5607"
      },
      "source": [
        "candidate_sentences[\"review\"].loc[1]"
      ],
      "execution_count": 123,
      "outputs": [
        {
          "output_type": "execute_result",
          "data": {
            "application/vnd.google.colaboratory.intrinsic+json": {
              "type": "string"
            },
            "text/plain": [
              "'Abilify changed my life. There is hope. I was on Zoloft and Clonidine when I first started Abilify at the age of 15.. Zoloft for depression and Clondine to manage my complete rage. My moods were out of control. I was depressed and hopeless one second and then mean irrational and full of rage the next. My Dr. prescribed me 2mg of Abilify and from that point on I feel like I have been cured though I know I039m not.. Bipolar disorder is a constant battle. I know Abilify works for me because I have tried to get off it and lost complete control over my emotions. Went back on it and I was golden again.  I am on 5mg 2x daily. I am now 21 and better than I have ever been in the past. Only side effect is I like to eat a lot.'"
            ]
          },
          "metadata": {},
          "execution_count": 123
        }
      ]
    },
    {
      "cell_type": "code",
      "metadata": {
        "colab": {
          "base_uri": "https://localhost:8080/"
        },
        "id": "ZCEnPk5NswgC",
        "outputId": "609dd4de-f9e0-48dd-dcf7-0c24f92e08ed"
      },
      "source": [
        "candidate_sentences[\"rating\"].loc[1]"
      ],
      "execution_count": 117,
      "outputs": [
        {
          "output_type": "execute_result",
          "data": {
            "text/plain": [
              "10"
            ]
          },
          "metadata": {},
          "execution_count": 117
        }
      ]
    },
    {
      "cell_type": "code",
      "metadata": {
        "colab": {
          "base_uri": "https://localhost:8080/",
          "height": 1000
        },
        "id": "VBHWt6q3mUhR",
        "outputId": "a5192270-9a88-466f-9851-8b0760ef5814"
      },
      "source": [
        "text = candidate_sentences[\"review\"].loc[1]\n",
        "\n",
        "sentences = getSentences(text)\n",
        "nlp_model = spacy.load('en_core_web_sm')\n",
        "\n",
        "triples = []\n",
        "print (text)\n",
        "for sentence in sentences:\n",
        "  triples.append(processSentence(sentence))\n",
        "\n",
        "printGraph(triples)"
      ],
      "execution_count": 126,
      "outputs": [
        {
          "output_type": "stream",
          "name": "stdout",
          "text": [
            "Abilify changed my life. There is hope. I was on Zoloft and Clonidine when I first started Abilify at the age of 15.. Zoloft for depression and Clondine to manage my complete rage. My moods were out of control. I was depressed and hopeless one second and then mean irrational and full of rage the next. My Dr. prescribed me 2mg of Abilify and from that point on I feel like I have been cured though I know I039m not.. Bipolar disorder is a constant battle. I know Abilify works for me because I have tried to get off it and lost complete control over my emotions. Went back on it and I was golden again.  I am on 5mg 2x daily. I am now 21 and better than I have ever been in the past. Only side effect is I like to eat a lot.\n",
            "Abilify -> nsubj\n",
            "changed -> ROOT\n",
            "my -> poss\n",
            "life -> dobj\n",
            ". -> punct\n",
            "Abilify , change , life\n",
            "There -> expl\n",
            "is -> ROOT\n",
            "hope -> attr\n",
            ". -> punct\n",
            " , be hope , \n",
            "I -> nsubj\n",
            "was -> ROOT\n",
            "on -> prep\n",
            "Zoloft -> pobj\n",
            "and -> cc\n",
            "Clonidine -> conj\n",
            "when -> advmod\n",
            "I -> nsubj\n",
            "first -> advmod\n",
            "started -> advcl\n",
            "Abilify -> dobj\n",
            "at -> prep\n",
            "the -> det\n",
            "age -> pobj\n",
            "of -> prep\n",
            "15 -> nummod\n",
            ".. -> punct\n",
            "Zoloft -> pobj\n",
            "for -> prep\n",
            "depression -> pobj\n",
            "and -> cc\n",
            "Clondine -> conj\n",
            "to -> aux\n",
            "manage -> xcomp\n",
            "my -> poss\n",
            "complete -> amod\n",
            "rage -> dobj\n",
            ". -> punct\n",
            "I I , be complete , Zoloft Abilify age Zoloft depression rage\n",
            "My -> poss\n",
            "moods -> nsubj\n",
            "were -> ROOT\n",
            "out -> prep\n",
            "of -> prep\n",
            "control -> pobj\n",
            ". -> punct\n",
            "moods , be , control\n",
            "I -> nsubj\n",
            "was -> ROOT\n",
            "depressed -> acomp\n",
            "and -> cc\n",
            "hopeless -> conj\n",
            "one -> dobj\n",
            "second -> acomp\n",
            "and -> cc\n",
            "then -> advmod\n",
            "mean -> conj\n",
            "irrational -> dobj\n",
            "and -> cc\n",
            "full -> conj\n",
            "of -> prep\n",
            "rage -> pobj\n",
            "the -> det\n",
            "next -> advmod\n",
            ". -> punct\n",
            "I , be , one irrational rage\n",
            "My -> poss\n",
            "Dr. -> nsubj\n",
            "prescribed -> ROOT\n",
            "me -> dobj\n",
            "2 -> nummod\n",
            "mg -> dobj\n",
            "of -> prep\n",
            "Abilify -> pobj\n",
            "and -> cc\n",
            "from -> conj\n",
            "that -> det\n",
            "point -> pobj\n",
            "on -> prep\n",
            "I -> nsubj\n",
            "feel -> ROOT\n",
            "like -> mark\n",
            "I -> nsubjpass\n",
            "have -> aux\n",
            "been -> auxpass\n",
            "cured -> advcl\n",
            "though -> mark\n",
            "I -> nsubj\n",
            "know -> advcl\n",
            "I039 -> compound\n",
            "m -> dobj\n",
            "not -> neg\n",
            ".. -> punct\n",
            "Bipolar -> amod\n",
            "disorder -> nsubj\n",
            "is -> ROOT\n",
            "a -> det\n",
            "constant -> amod\n",
            "battle -> attr\n",
            ". -> punct\n",
            "Dr. I I I disorder , prescribe feel bipolar be constant battle , me mg Abilify point m\n",
            "I -> nsubj\n",
            "know -> ROOT\n",
            "Abilify -> compound\n",
            "works -> ccomp\n",
            "for -> prep\n",
            "me -> pobj\n",
            "because -> mark\n",
            "I -> nsubj\n",
            "have -> aux\n",
            "tried -> advcl\n",
            "to -> aux\n",
            "get -> xcomp\n",
            "off -> prt\n",
            "it -> pobj\n",
            "and -> cc\n",
            "lost -> conj\n",
            "complete -> amod\n",
            "control -> dobj\n",
            "over -> prep\n",
            "my -> poss\n",
            "emotions -> pobj\n",
            ". -> punct\n",
            "I I , know complete , me it control emotions\n",
            "Went -> ROOT\n",
            "back -> advmod\n",
            "on -> prep\n",
            "it -> pobj\n",
            "and -> cc\n",
            "I -> nsubj\n",
            "was -> ROOT\n",
            "golden -> acomp\n",
            "again -> advmod\n",
            ". -> punct\n",
            "I , go be , it\n",
            "I -> nsubj\n",
            "am -> ROOT\n",
            "on -> prep\n",
            "5 -> nummod\n",
            "mg -> compound\n",
            "2x -> pobj\n",
            "daily -> advmod\n",
            ". -> punct\n",
            "I , be , 2x\n",
            "I -> nsubj\n",
            "am -> ROOT\n",
            "now -> advmod\n",
            "21 -> attr\n",
            "and -> cc\n",
            "better -> conj\n",
            "than -> mark\n",
            "I -> nsubj\n",
            "have -> aux\n",
            "ever -> advmod\n",
            "been -> advcl\n",
            "in -> prep\n",
            "the -> det\n",
            "past -> pobj\n",
            ". -> punct\n",
            "I I , be 21 , past\n",
            "Only -> advmod\n",
            "side -> compound\n",
            "effect -> nsubj\n",
            "is -> ROOT\n",
            "I -> nsubj\n",
            "like -> ccomp\n",
            "to -> aux\n",
            "eat -> xcomp\n",
            "a -> det\n",
            "lot -> dobj\n",
            ". -> punct\n",
            "effect I , be , lot\n"
          ]
        },
        {
          "output_type": "display_data",
          "data": {
            "image/png": "[encoded data removed]",
            "text/plain": [
              "<Figure size 1440x1440 with 1 Axes>"
            ]
          },
          "metadata": {}
        }
      ]
    },
    {
      "cell_type": "code",
      "metadata": {
        "id": "fsgpBbKDTVC1"
      },
      "source": [
        "# Tags I've chosen for relations\n",
        "deps = [\"ROOT\", \"adj\", \"attr\", \"agent\", \"amod\"]\n",
        "\n",
        "# Tags I've chosen for entities(subjects and objects)\n",
        "deps = [\"compound\", \"prep\", \"conj\", \"mod\"]"
      ],
      "execution_count": 82,
      "outputs": []
    },
    {
      "cell_type": "code",
      "metadata": {
        "id": "zUAnGe-uiUAQ"
      },
      "source": [
        ""
      ],
      "execution_count": null,
      "outputs": []
    },
    {
      "cell_type": "code",
      "metadata": {
        "id": "VfZCrDfaTVC4"
      },
      "source": [
        ""
      ],
      "execution_count": null,
      "outputs": []
    },
    {
      "cell_type": "markdown",
      "metadata": {
        "id": "n_XRowyuEaA5"
      },
      "source": [
        "##2"
      ]
    },
    {
      "cell_type": "code",
      "metadata": {
        "colab": {
          "base_uri": "https://localhost:8080/"
        },
        "id": "j5SHEcZvB0gV",
        "outputId": "9648222d-2e87-450b-8f94-739947795ee0"
      },
      "source": [
        "# https://ichi.pro/ko/spacy-3gwa-hamkke-bert-transformerleul-sayonghayeo-jointeu-entiti-mich-gwangye-chuchul-bunlyugileul-hunlyeonhaneun-bangb-81273814588252 \n",
        "\n",
        "!pip install -U spacy-nightly --pre"
      ],
      "execution_count": null,
      "outputs": [
        {
          "output_type": "stream",
          "name": "stdout",
          "text": [
            "Collecting spacy-nightly\n",
            "  Downloading spacy_nightly-3.0.0rc5-cp37-cp37m-manylinux2014_x86_64.whl (12.7 MB)\n",
            "\u001b[K     |████████████████████████████████| 12.7 MB 165 kB/s \n",
            "\u001b[?25hCollecting pydantic<1.8.0,>=1.7.1\n",
            "  Downloading pydantic-1.7.4-cp37-cp37m-manylinux2014_x86_64.whl (9.1 MB)\n",
            "\u001b[K     |████████████████████████████████| 9.1 MB 35.8 MB/s \n",
            "\u001b[?25hRequirement already satisfied: tqdm<5.0.0,>=4.38.0 in /usr/local/lib/python3.7/dist-packages (from spacy-nightly) (4.62.2)\n",
            "Requirement already satisfied: preshed<3.1.0,>=3.0.2 in /usr/local/lib/python3.7/dist-packages (from spacy-nightly) (3.0.5)\n",
            "Requirement already satisfied: packaging>=20.0 in /usr/local/lib/python3.7/dist-packages (from spacy-nightly) (21.0)\n",
            "Requirement already satisfied: setuptools in /usr/local/lib/python3.7/dist-packages (from spacy-nightly) (57.4.0)\n",
            "Collecting spacy-legacy<3.1.0,>=3.0.0.dev0\n",
            "  Downloading spacy_legacy-3.0.8-py2.py3-none-any.whl (14 kB)\n",
            "Requirement already satisfied: wasabi<1.1.0,>=0.8.1 in /usr/local/lib/python3.7/dist-packages (from spacy-nightly) (0.8.2)\n",
            "Requirement already satisfied: jinja2 in /usr/local/lib/python3.7/dist-packages (from spacy-nightly) (2.11.3)\n",
            "Collecting catalogue<2.1.0,>=2.0.1\n",
            "  Downloading catalogue-2.0.6-py3-none-any.whl (17 kB)\n",
            "Requirement already satisfied: cymem<2.1.0,>=2.0.2 in /usr/local/lib/python3.7/dist-packages (from spacy-nightly) (2.0.5)\n",
            "Requirement already satisfied: importlib-metadata>=0.20 in /usr/local/lib/python3.7/dist-packages (from spacy-nightly) (4.8.1)\n",
            "Requirement already satisfied: blis<0.8.0,>=0.4.0 in /usr/local/lib/python3.7/dist-packages (from spacy-nightly) (0.4.1)\n",
            "Collecting srsly<3.0.0,>=2.3.0\n",
            "  Downloading srsly-2.4.1-cp37-cp37m-manylinux2014_x86_64.whl (456 kB)\n",
            "\u001b[K     |████████████████████████████████| 456 kB 46.0 MB/s \n",
            "\u001b[?25hRequirement already satisfied: requests<3.0.0,>=2.13.0 in /usr/local/lib/python3.7/dist-packages (from spacy-nightly) (2.23.0)\n",
            "Requirement already satisfied: typing-extensions>=3.7.4 in /usr/local/lib/python3.7/dist-packages (from spacy-nightly) (3.7.4.3)\n",
            "Requirement already satisfied: numpy>=1.15.0 in /usr/local/lib/python3.7/dist-packages (from spacy-nightly) (1.19.5)\n",
            "Collecting typer<0.4.0,>=0.3.0\n",
            "  Downloading typer-0.3.2-py3-none-any.whl (21 kB)\n",
            "Collecting thinc<8.1.0,>=8.0.0\n",
            "  Downloading thinc-8.0.10-cp37-cp37m-manylinux_2_17_x86_64.manylinux2014_x86_64.whl (623 kB)\n",
            "\u001b[K     |████████████████████████████████| 623 kB 49.2 MB/s \n",
            "\u001b[?25hCollecting pathy\n",
            "  Downloading pathy-0.6.0-py3-none-any.whl (42 kB)\n",
            "\u001b[K     |████████████████████████████████| 42 kB 1.3 MB/s \n",
            "\u001b[?25hRequirement already satisfied: murmurhash<1.1.0,>=0.28.0 in /usr/local/lib/python3.7/dist-packages (from spacy-nightly) (1.0.5)\n",
            "Requirement already satisfied: zipp>=0.5 in /usr/local/lib/python3.7/dist-packages (from catalogue<2.1.0,>=2.0.1->spacy-nightly) (3.5.0)\n",
            "Requirement already satisfied: pyparsing>=2.0.2 in /usr/local/lib/python3.7/dist-packages (from packaging>=20.0->spacy-nightly) (2.4.7)\n",
            "Requirement already satisfied: urllib3!=1.25.0,!=1.25.1,<1.26,>=1.21.1 in /usr/local/lib/python3.7/dist-packages (from requests<3.0.0,>=2.13.0->spacy-nightly) (1.24.3)\n",
            "Requirement already satisfied: idna<3,>=2.5 in /usr/local/lib/python3.7/dist-packages (from requests<3.0.0,>=2.13.0->spacy-nightly) (2.10)\n",
            "Requirement already satisfied: certifi>=2017.4.17 in /usr/local/lib/python3.7/dist-packages (from requests<3.0.0,>=2.13.0->spacy-nightly) (2021.5.30)\n",
            "Requirement already satisfied: chardet<4,>=3.0.2 in /usr/local/lib/python3.7/dist-packages (from requests<3.0.0,>=2.13.0->spacy-nightly) (3.0.4)\n",
            "Requirement already satisfied: click<7.2.0,>=7.1.1 in /usr/local/lib/python3.7/dist-packages (from typer<0.4.0,>=0.3.0->spacy-nightly) (7.1.2)\n",
            "Requirement already satisfied: MarkupSafe>=0.23 in /usr/local/lib/python3.7/dist-packages (from jinja2->spacy-nightly) (2.0.1)\n",
            "Requirement already satisfied: smart-open<6.0.0,>=5.0.0 in /usr/local/lib/python3.7/dist-packages (from pathy->spacy-nightly) (5.2.1)\n",
            "Installing collected packages: catalogue, typer, srsly, pydantic, thinc, spacy-legacy, pathy, spacy-nightly\n",
            "  Attempting uninstall: catalogue\n",
            "    Found existing installation: catalogue 1.0.0\n",
            "    Uninstalling catalogue-1.0.0:\n",
            "      Successfully uninstalled catalogue-1.0.0\n",
            "  Attempting uninstall: srsly\n",
            "    Found existing installation: srsly 1.0.5\n",
            "    Uninstalling srsly-1.0.5:\n",
            "      Successfully uninstalled srsly-1.0.5\n",
            "  Attempting uninstall: thinc\n",
            "    Found existing installation: thinc 7.4.0\n",
            "    Uninstalling thinc-7.4.0:\n",
            "      Successfully uninstalled thinc-7.4.0\n",
            "\u001b[31mERROR: pip's dependency resolver does not currently take into account all the packages that are installed. This behaviour is the source of the following dependency conflicts.\n",
            "spacy 2.2.4 requires catalogue<1.1.0,>=0.0.7, but you have catalogue 2.0.6 which is incompatible.\n",
            "spacy 2.2.4 requires srsly<1.1.0,>=1.0.2, but you have srsly 2.4.1 which is incompatible.\n",
            "spacy 2.2.4 requires thinc==7.4.0, but you have thinc 8.0.10 which is incompatible.\u001b[0m\n",
            "Successfully installed catalogue-2.0.6 pathy-0.6.0 pydantic-1.7.4 spacy-legacy-3.0.8 spacy-nightly-3.0.0rc5 srsly-2.4.1 thinc-8.0.10 typer-0.3.2\n"
          ]
        }
      ]
    },
    {
      "cell_type": "code",
      "metadata": {
        "colab": {
          "base_uri": "https://localhost:8080/"
        },
        "id": "TLZF0CPTB0ji",
        "outputId": "c3fa5c92-4137-4f06-f6ee-4c3ab939d324"
      },
      "source": [
        "!pip install -U pip setuptools wheel\n",
        "!python -m spacy project clone tutorials/content/drive/MyDrive/버트연구보조원/rel_component"
      ],
      "execution_count": null,
      "outputs": [
        {
          "output_type": "stream",
          "name": "stdout",
          "text": [
            "Requirement already satisfied: pip in /usr/local/lib/python3.7/dist-packages (21.2.4)\n",
            "Requirement already satisfied: setuptools in /usr/local/lib/python3.7/dist-packages (58.1.0)\n",
            "Requirement already satisfied: wheel in /usr/local/lib/python3.7/dist-packages (0.37.0)\n",
            "\u001b[33mWARNING: Running pip as the 'root' user can result in broken permissions and conflicting behaviour with the system package manager. It is recommended to use a virtual environment instead: https://pip.pypa.io/warnings/venv\u001b[0m\n",
            "\n",
            "\u001b[38;5;1m✘ Can't clone project, directory already exists:\n",
            "/content/rel_component\u001b[0m\n",
            "\n"
          ]
        }
      ]
    },
    {
      "cell_type": "code",
      "metadata": {
        "colab": {
          "base_uri": "https://localhost:8080/"
        },
        "id": "mjNNKhgIB0mB",
        "outputId": "fb08ad63-f75d-4b1a-f0f0-102d711becec"
      },
      "source": [
        "!python -m spacy download en_core_web_trf\n",
        "!pip install -U spacy transformers"
      ],
      "execution_count": null,
      "outputs": [
        {
          "output_type": "stream",
          "name": "stdout",
          "text": [
            "Collecting en_core_web_trf==3.0.0\n",
            "  Downloading https://github.com/explosion/spacy-models/releases/download/en_core_web_trf-3.0.0/en_core_web_trf-3.0.0.tar.gz (459.7 MB)\n",
            "\u001b[K     |████████████████████████████████| 459.7 MB 1.2 MB/s \n",
            "\u001b[?25hCollecting spacy<3.1.0,>=3.0.0\n",
            "  Downloading spacy-3.0.7-cp37-cp37m-manylinux_2_17_x86_64.manylinux2014_x86_64.whl (6.3 MB)\n",
            "\u001b[K     |████████████████████████████████| 6.3 MB 4.6 MB/s \n",
            "\u001b[?25hCollecting spacy-transformers<1.1.0,>=1.0.0rc4\n",
            "  Downloading spacy_transformers-1.0.6-py2.py3-none-any.whl (42 kB)\n",
            "\u001b[K     |████████████████████████████████| 42 kB 25.3 MB/s \n",
            "\u001b[?25hRequirement already satisfied: preshed<3.1.0,>=3.0.2 in /usr/local/lib/python3.7/dist-packages (from spacy<3.1.0,>=3.0.0->en_core_web_trf==3.0.0) (3.0.5)\n",
            "Requirement already satisfied: setuptools in /usr/local/lib/python3.7/dist-packages (from spacy<3.1.0,>=3.0.0->en_core_web_trf==3.0.0) (58.1.0)\n",
            "Requirement already satisfied: tqdm<5.0.0,>=4.38.0 in /usr/local/lib/python3.7/dist-packages (from spacy<3.1.0,>=3.0.0->en_core_web_trf==3.0.0) (4.62.2)\n",
            "Requirement already satisfied: typer<0.4.0,>=0.3.0 in /usr/local/lib/python3.7/dist-packages (from spacy<3.1.0,>=3.0.0->en_core_web_trf==3.0.0) (0.3.2)\n",
            "Requirement already satisfied: cymem<2.1.0,>=2.0.2 in /usr/local/lib/python3.7/dist-packages (from spacy<3.1.0,>=3.0.0->en_core_web_trf==3.0.0) (2.0.5)\n",
            "Requirement already satisfied: wasabi<1.1.0,>=0.8.1 in /usr/local/lib/python3.7/dist-packages (from spacy<3.1.0,>=3.0.0->en_core_web_trf==3.0.0) (0.8.2)\n",
            "Requirement already satisfied: spacy-legacy<3.1.0,>=3.0.5 in /usr/local/lib/python3.7/dist-packages (from spacy<3.1.0,>=3.0.0->en_core_web_trf==3.0.0) (3.0.8)\n",
            "Requirement already satisfied: murmurhash<1.1.0,>=0.28.0 in /usr/local/lib/python3.7/dist-packages (from spacy<3.1.0,>=3.0.0->en_core_web_trf==3.0.0) (1.0.5)\n",
            "Requirement already satisfied: requests<3.0.0,>=2.13.0 in /usr/local/lib/python3.7/dist-packages (from spacy<3.1.0,>=3.0.0->en_core_web_trf==3.0.0) (2.23.0)\n",
            "Requirement already satisfied: numpy>=1.15.0 in /usr/local/lib/python3.7/dist-packages (from spacy<3.1.0,>=3.0.0->en_core_web_trf==3.0.0) (1.19.5)\n",
            "Requirement already satisfied: pathy>=0.3.5 in /usr/local/lib/python3.7/dist-packages (from spacy<3.1.0,>=3.0.0->en_core_web_trf==3.0.0) (0.6.0)\n",
            "Requirement already satisfied: packaging>=20.0 in /usr/local/lib/python3.7/dist-packages (from spacy<3.1.0,>=3.0.0->en_core_web_trf==3.0.0) (21.0)\n",
            "Requirement already satisfied: jinja2 in /usr/local/lib/python3.7/dist-packages (from spacy<3.1.0,>=3.0.0->en_core_web_trf==3.0.0) (2.11.3)\n",
            "Requirement already satisfied: typing-extensions<4.0.0.0,>=3.7.4 in /usr/local/lib/python3.7/dist-packages (from spacy<3.1.0,>=3.0.0->en_core_web_trf==3.0.0) (3.7.4.3)\n",
            "Requirement already satisfied: pydantic!=1.8,!=1.8.1,<1.9.0,>=1.7.4 in /usr/local/lib/python3.7/dist-packages (from spacy<3.1.0,>=3.0.0->en_core_web_trf==3.0.0) (1.7.4)\n",
            "Requirement already satisfied: srsly<3.0.0,>=2.4.1 in /usr/local/lib/python3.7/dist-packages (from spacy<3.1.0,>=3.0.0->en_core_web_trf==3.0.0) (2.4.1)\n",
            "Requirement already satisfied: catalogue<2.1.0,>=2.0.4 in /usr/local/lib/python3.7/dist-packages (from spacy<3.1.0,>=3.0.0->en_core_web_trf==3.0.0) (2.0.6)\n",
            "Requirement already satisfied: blis<0.8.0,>=0.4.0 in /usr/local/lib/python3.7/dist-packages (from spacy<3.1.0,>=3.0.0->en_core_web_trf==3.0.0) (0.4.1)\n",
            "Requirement already satisfied: thinc<8.1.0,>=8.0.3 in /usr/local/lib/python3.7/dist-packages (from spacy<3.1.0,>=3.0.0->en_core_web_trf==3.0.0) (8.0.10)\n",
            "Requirement already satisfied: zipp>=0.5 in /usr/local/lib/python3.7/dist-packages (from catalogue<2.1.0,>=2.0.4->spacy<3.1.0,>=3.0.0->en_core_web_trf==3.0.0) (3.5.0)\n",
            "Requirement already satisfied: pyparsing>=2.0.2 in /usr/local/lib/python3.7/dist-packages (from packaging>=20.0->spacy<3.1.0,>=3.0.0->en_core_web_trf==3.0.0) (2.4.7)\n",
            "Requirement already satisfied: smart-open<6.0.0,>=5.0.0 in /usr/local/lib/python3.7/dist-packages (from pathy>=0.3.5->spacy<3.1.0,>=3.0.0->en_core_web_trf==3.0.0) (5.2.1)\n",
            "Requirement already satisfied: certifi>=2017.4.17 in /usr/local/lib/python3.7/dist-packages (from requests<3.0.0,>=2.13.0->spacy<3.1.0,>=3.0.0->en_core_web_trf==3.0.0) (2021.5.30)\n",
            "Requirement already satisfied: urllib3!=1.25.0,!=1.25.1,<1.26,>=1.21.1 in /usr/local/lib/python3.7/dist-packages (from requests<3.0.0,>=2.13.0->spacy<3.1.0,>=3.0.0->en_core_web_trf==3.0.0) (1.24.3)\n",
            "Requirement already satisfied: chardet<4,>=3.0.2 in /usr/local/lib/python3.7/dist-packages (from requests<3.0.0,>=2.13.0->spacy<3.1.0,>=3.0.0->en_core_web_trf==3.0.0) (3.0.4)\n",
            "Requirement already satisfied: idna<3,>=2.5 in /usr/local/lib/python3.7/dist-packages (from requests<3.0.0,>=2.13.0->spacy<3.1.0,>=3.0.0->en_core_web_trf==3.0.0) (2.10)\n",
            "Requirement already satisfied: torch>=1.5.0 in /usr/local/lib/python3.7/dist-packages (from spacy-transformers<1.1.0,>=1.0.0rc4->en_core_web_trf==3.0.0) (1.9.0+cu102)\n",
            "Collecting spacy-alignments<1.0.0,>=0.7.2\n",
            "  Downloading spacy_alignments-0.8.3-cp37-cp37m-manylinux2014_x86_64.whl (998 kB)\n",
            "\u001b[K     |████████████████████████████████| 998 kB 53.1 MB/s \n",
            "\u001b[?25hCollecting spacy-transformers<1.1.0,>=1.0.0rc4\n",
            "  Downloading spacy_transformers-1.0.5-py2.py3-none-any.whl (42 kB)\n",
            "\u001b[K     |████████████████████████████████| 42 kB 20.2 MB/s \n",
            "\u001b[?25h  Downloading spacy_transformers-1.0.4-py2.py3-none-any.whl (40 kB)\n",
            "\u001b[K     |████████████████████████████████| 40 kB 44.7 MB/s \n",
            "\u001b[?25hCollecting transformers<4.10.0,>=3.4.0\n",
            "  Downloading transformers-4.9.2-py3-none-any.whl (2.6 MB)\n",
            "\u001b[K     |████████████████████████████████| 2.6 MB 24.7 MB/s \n",
            "\u001b[?25hCollecting huggingface-hub==0.0.12\n",
            "  Downloading huggingface_hub-0.0.12-py3-none-any.whl (37 kB)\n",
            "Collecting tokenizers<0.11,>=0.10.1\n",
            "  Downloading tokenizers-0.10.3-cp37-cp37m-manylinux_2_5_x86_64.manylinux1_x86_64.manylinux_2_12_x86_64.manylinux2010_x86_64.whl (3.3 MB)\n",
            "\u001b[K     |████████████████████████████████| 3.3 MB 24.1 MB/s \n",
            "\u001b[?25hCollecting sacremoses\n",
            "  Downloading sacremoses-0.0.45-py3-none-any.whl (895 kB)\n",
            "\u001b[K     |████████████████████████████████| 895 kB 50.9 MB/s \n",
            "\u001b[?25hCollecting pyyaml>=5.1\n",
            "  Downloading PyYAML-5.4.1-cp37-cp37m-manylinux1_x86_64.whl (636 kB)\n",
            "\u001b[K     |████████████████████████████████| 636 kB 55.8 MB/s \n",
            "\u001b[?25hRequirement already satisfied: importlib-metadata in /usr/local/lib/python3.7/dist-packages (from transformers<4.10.0,>=3.4.0->spacy-transformers<1.1.0,>=1.0.0rc4->en_core_web_trf==3.0.0) (4.8.1)\n",
            "Requirement already satisfied: filelock in /usr/local/lib/python3.7/dist-packages (from transformers<4.10.0,>=3.4.0->spacy-transformers<1.1.0,>=1.0.0rc4->en_core_web_trf==3.0.0) (3.0.12)\n",
            "Requirement already satisfied: regex!=2019.12.17 in /usr/local/lib/python3.7/dist-packages (from transformers<4.10.0,>=3.4.0->spacy-transformers<1.1.0,>=1.0.0rc4->en_core_web_trf==3.0.0) (2019.12.20)\n",
            "Requirement already satisfied: click<7.2.0,>=7.1.1 in /usr/local/lib/python3.7/dist-packages (from typer<0.4.0,>=0.3.0->spacy<3.1.0,>=3.0.0->en_core_web_trf==3.0.0) (7.1.2)\n",
            "Requirement already satisfied: MarkupSafe>=0.23 in /usr/local/lib/python3.7/dist-packages (from jinja2->spacy<3.1.0,>=3.0.0->en_core_web_trf==3.0.0) (2.0.1)\n",
            "Requirement already satisfied: six in /usr/local/lib/python3.7/dist-packages (from sacremoses->transformers<4.10.0,>=3.4.0->spacy-transformers<1.1.0,>=1.0.0rc4->en_core_web_trf==3.0.0) (1.15.0)\n",
            "Requirement already satisfied: joblib in /usr/local/lib/python3.7/dist-packages (from sacremoses->transformers<4.10.0,>=3.4.0->spacy-transformers<1.1.0,>=1.0.0rc4->en_core_web_trf==3.0.0) (1.0.1)\n",
            "Building wheels for collected packages: en-core-web-trf\n",
            "  Building wheel for en-core-web-trf (setup.py) ... \u001b[?25l\u001b[?25hdone\n",
            "  Created wheel for en-core-web-trf: filename=en_core_web_trf-3.0.0-py3-none-any.whl size=459708989 sha256=362279577de6d797bfc221e16c163e354ee1cdf17e711fbcbbdf666362d06419\n",
            "  Stored in directory: /tmp/pip-ephem-wheel-cache-1zx3z9dv/wheels/be/d9/92/c65214265163256ecc7588e6468c43feb86424a69bfe2fddb9\n",
            "Successfully built en-core-web-trf\n",
            "Installing collected packages: tokenizers, sacremoses, pyyaml, huggingface-hub, transformers, spacy-alignments, spacy, spacy-transformers, en-core-web-trf\n",
            "  Attempting uninstall: pyyaml\n",
            "    Found existing installation: PyYAML 3.13\n",
            "    Uninstalling PyYAML-3.13:\n",
            "      Successfully uninstalled PyYAML-3.13\n",
            "  Attempting uninstall: spacy\n",
            "    Found existing installation: spacy 2.2.4\n",
            "    Uninstalling spacy-2.2.4:\n",
            "      Successfully uninstalled spacy-2.2.4\n",
            "Successfully installed en-core-web-trf-3.0.0 huggingface-hub-0.0.12 pyyaml-5.4.1 sacremoses-0.0.45 spacy-3.0.7 spacy-alignments-0.8.3 spacy-transformers-1.0.4 tokenizers-0.10.3 transformers-4.9.2\n",
            "\u001b[33mWARNING: Running pip as the 'root' user can result in broken permissions and conflicting behaviour with the system package manager. It is recommended to use a virtual environment instead: https://pip.pypa.io/warnings/venv\u001b[0m\n",
            "\u001b[38;5;2m✔ Download and installation successful\u001b[0m\n",
            "You can now load the package via spacy.load('en_core_web_trf')\n",
            "Requirement already satisfied: spacy in /usr/local/lib/python3.7/dist-packages (3.0.7)\n",
            "Collecting spacy\n",
            "  Downloading spacy-3.1.3-cp37-cp37m-manylinux_2_17_x86_64.manylinux2014_x86_64.whl (5.9 MB)\n",
            "\u001b[K     |████████████████████████████████| 5.9 MB 5.2 MB/s \n",
            "\u001b[?25hRequirement already satisfied: transformers in /usr/local/lib/python3.7/dist-packages (4.9.2)\n",
            "Collecting transformers\n",
            "  Downloading transformers-4.10.3-py3-none-any.whl (2.8 MB)\n",
            "\u001b[K     |████████████████████████████████| 2.8 MB 31.9 MB/s \n",
            "\u001b[?25hRequirement already satisfied: jinja2 in /usr/local/lib/python3.7/dist-packages (from spacy) (2.11.3)\n",
            "Requirement already satisfied: blis<0.8.0,>=0.4.0 in /usr/local/lib/python3.7/dist-packages (from spacy) (0.4.1)\n",
            "Requirement already satisfied: pathy>=0.3.5 in /usr/local/lib/python3.7/dist-packages (from spacy) (0.6.0)\n",
            "Requirement already satisfied: setuptools in /usr/local/lib/python3.7/dist-packages (from spacy) (58.1.0)\n",
            "Requirement already satisfied: numpy>=1.15.0 in /usr/local/lib/python3.7/dist-packages (from spacy) (1.19.5)\n",
            "Requirement already satisfied: cymem<2.1.0,>=2.0.2 in /usr/local/lib/python3.7/dist-packages (from spacy) (2.0.5)\n",
            "Requirement already satisfied: preshed<3.1.0,>=3.0.2 in /usr/local/lib/python3.7/dist-packages (from spacy) (3.0.5)\n",
            "Requirement already satisfied: murmurhash<1.1.0,>=0.28.0 in /usr/local/lib/python3.7/dist-packages (from spacy) (1.0.5)\n",
            "Requirement already satisfied: spacy-legacy<3.1.0,>=3.0.8 in /usr/local/lib/python3.7/dist-packages (from spacy) (3.0.8)\n",
            "Requirement already satisfied: wasabi<1.1.0,>=0.8.1 in /usr/local/lib/python3.7/dist-packages (from spacy) (0.8.2)\n",
            "Requirement already satisfied: pydantic!=1.8,!=1.8.1,<1.9.0,>=1.7.4 in /usr/local/lib/python3.7/dist-packages (from spacy) (1.7.4)\n",
            "Requirement already satisfied: tqdm<5.0.0,>=4.38.0 in /usr/local/lib/python3.7/dist-packages (from spacy) (4.62.2)\n",
            "Requirement already satisfied: typer<0.5.0,>=0.3.0 in /usr/local/lib/python3.7/dist-packages (from spacy) (0.3.2)\n",
            "Requirement already satisfied: catalogue<2.1.0,>=2.0.6 in /usr/local/lib/python3.7/dist-packages (from spacy) (2.0.6)\n",
            "Requirement already satisfied: srsly<3.0.0,>=2.4.1 in /usr/local/lib/python3.7/dist-packages (from spacy) (2.4.1)\n",
            "Requirement already satisfied: typing-extensions<4.0.0.0,>=3.7.4 in /usr/local/lib/python3.7/dist-packages (from spacy) (3.7.4.3)\n",
            "Requirement already satisfied: requests<3.0.0,>=2.13.0 in /usr/local/lib/python3.7/dist-packages (from spacy) (2.23.0)\n",
            "Requirement already satisfied: thinc<8.1.0,>=8.0.9 in /usr/local/lib/python3.7/dist-packages (from spacy) (8.0.10)\n",
            "Requirement already satisfied: packaging>=20.0 in /usr/local/lib/python3.7/dist-packages (from spacy) (21.0)\n",
            "Requirement already satisfied: sacremoses in /usr/local/lib/python3.7/dist-packages (from transformers) (0.0.45)\n",
            "Requirement already satisfied: tokenizers<0.11,>=0.10.1 in /usr/local/lib/python3.7/dist-packages (from transformers) (0.10.3)\n",
            "Requirement already satisfied: importlib-metadata in /usr/local/lib/python3.7/dist-packages (from transformers) (4.8.1)\n",
            "Requirement already satisfied: huggingface-hub>=0.0.12 in /usr/local/lib/python3.7/dist-packages (from transformers) (0.0.12)\n",
            "Requirement already satisfied: pyyaml>=5.1 in /usr/local/lib/python3.7/dist-packages (from transformers) (5.4.1)\n",
            "Requirement already satisfied: regex!=2019.12.17 in /usr/local/lib/python3.7/dist-packages (from transformers) (2019.12.20)\n",
            "Requirement already satisfied: filelock in /usr/local/lib/python3.7/dist-packages (from transformers) (3.0.12)\n",
            "Requirement already satisfied: zipp>=0.5 in /usr/local/lib/python3.7/dist-packages (from catalogue<2.1.0,>=2.0.6->spacy) (3.5.0)\n",
            "Requirement already satisfied: pyparsing>=2.0.2 in /usr/local/lib/python3.7/dist-packages (from packaging>=20.0->spacy) (2.4.7)\n",
            "Requirement already satisfied: smart-open<6.0.0,>=5.0.0 in /usr/local/lib/python3.7/dist-packages (from pathy>=0.3.5->spacy) (5.2.1)\n",
            "Requirement already satisfied: certifi>=2017.4.17 in /usr/local/lib/python3.7/dist-packages (from requests<3.0.0,>=2.13.0->spacy) (2021.5.30)\n",
            "Requirement already satisfied: idna<3,>=2.5 in /usr/local/lib/python3.7/dist-packages (from requests<3.0.0,>=2.13.0->spacy) (2.10)\n",
            "Requirement already satisfied: chardet<4,>=3.0.2 in /usr/local/lib/python3.7/dist-packages (from requests<3.0.0,>=2.13.0->spacy) (3.0.4)\n",
            "Requirement already satisfied: urllib3!=1.25.0,!=1.25.1,<1.26,>=1.21.1 in /usr/local/lib/python3.7/dist-packages (from requests<3.0.0,>=2.13.0->spacy) (1.24.3)\n",
            "Requirement already satisfied: click<7.2.0,>=7.1.1 in /usr/local/lib/python3.7/dist-packages (from typer<0.5.0,>=0.3.0->spacy) (7.1.2)\n",
            "Requirement already satisfied: MarkupSafe>=0.23 in /usr/local/lib/python3.7/dist-packages (from jinja2->spacy) (2.0.1)\n",
            "Requirement already satisfied: joblib in /usr/local/lib/python3.7/dist-packages (from sacremoses->transformers) (1.0.1)\n",
            "Requirement already satisfied: six in /usr/local/lib/python3.7/dist-packages (from sacremoses->transformers) (1.15.0)\n",
            "Installing collected packages: transformers, spacy\n",
            "  Attempting uninstall: transformers\n",
            "    Found existing installation: transformers 4.9.2\n",
            "    Uninstalling transformers-4.9.2:\n",
            "      Successfully uninstalled transformers-4.9.2\n",
            "  Attempting uninstall: spacy\n",
            "    Found existing installation: spacy 3.0.7\n",
            "    Uninstalling spacy-3.0.7:\n",
            "      Successfully uninstalled spacy-3.0.7\n",
            "\u001b[31mERROR: pip's dependency resolver does not currently take into account all the packages that are installed. This behaviour is the source of the following dependency conflicts.\n",
            "spacy-transformers 1.0.4 requires transformers<4.10.0,>=3.4.0, but you have transformers 4.10.3 which is incompatible.\n",
            "en-core-web-trf 3.0.0 requires spacy<3.1.0,>=3.0.0, but you have spacy 3.1.3 which is incompatible.\u001b[0m\n",
            "Successfully installed spacy-3.1.3 transformers-4.10.3\n",
            "\u001b[33mWARNING: Running pip as the 'root' user can result in broken permissions and conflicting behaviour with the system package manager. It is recommended to use a virtual environment instead: https://pip.pypa.io/warnings/venv\u001b[0m\n"
          ]
        }
      ]
    },
    {
      "cell_type": "code",
      "metadata": {
        "id": "PNdHDFvAB0o2"
      },
      "source": [
        "train_file: \"data/relations_training.spacy\"\n",
        "dev_file: \"data/relations_dev.spacy\"\n",
        "test_file: \"data/relations_test.spacy\""
      ],
      "execution_count": null,
      "outputs": []
    },
    {
      "cell_type": "code",
      "metadata": {
        "colab": {
          "base_uri": "https://localhost:8080/",
          "height": 232
        },
        "id": "qV3kMznnB0ql",
        "outputId": "bfc2dcaa-21ac-4e3f-d61e-4a7c41915390"
      },
      "source": [
        "[components.transformer.model]\n",
        "!@architectures = \"spacy-transformers.TransformerModel.v1\"\n",
        "name = \"roberta-base\" # Transformer model from huggingface\n",
        "tokenizer_config = {\"use_fast\": true}"
      ],
      "execution_count": null,
      "outputs": [
        {
          "output_type": "error",
          "ename": "NameError",
          "evalue": "ignored",
          "traceback": [
            "\u001b[0;31m---------------------------------------------------------------------------\u001b[0m",
            "\u001b[0;31mNameError\u001b[0m                                 Traceback (most recent call last)",
            "\u001b[0;32m<ipython-input-11-f5aec0bc0fba>\u001b[0m in \u001b[0;36m<module>\u001b[0;34m()\u001b[0m\n\u001b[0;32m----> 1\u001b[0;31m \u001b[0;34m[\u001b[0m\u001b[0mcomponents\u001b[0m\u001b[0;34m.\u001b[0m\u001b[0mtransformer\u001b[0m\u001b[0;34m.\u001b[0m\u001b[0mmodel\u001b[0m\u001b[0;34m]\u001b[0m\u001b[0;34m\u001b[0m\u001b[0;34m\u001b[0m\u001b[0m\n\u001b[0m\u001b[1;32m      2\u001b[0m \u001b[0mget_ipython\u001b[0m\u001b[0;34m(\u001b[0m\u001b[0;34m)\u001b[0m\u001b[0;34m.\u001b[0m\u001b[0msystem\u001b[0m\u001b[0;34m(\u001b[0m\u001b[0;34m'@architectures = \"spacy-transformers.TransformerModel.v1\"'\u001b[0m\u001b[0;34m)\u001b[0m\u001b[0;34m\u001b[0m\u001b[0;34m\u001b[0m\u001b[0m\n\u001b[1;32m      3\u001b[0m \u001b[0mname\u001b[0m \u001b[0;34m=\u001b[0m \u001b[0;34m\"roberta-base\"\u001b[0m \u001b[0;31m# Transformer model from huggingface\u001b[0m\u001b[0;34m\u001b[0m\u001b[0;34m\u001b[0m\u001b[0m\n\u001b[1;32m      4\u001b[0m \u001b[0mtokenizer_config\u001b[0m \u001b[0;34m=\u001b[0m \u001b[0;34m{\u001b[0m\u001b[0;34m\"use_fast\"\u001b[0m\u001b[0;34m:\u001b[0m \u001b[0mtrue\u001b[0m\u001b[0;34m}\u001b[0m\u001b[0;34m\u001b[0m\u001b[0;34m\u001b[0m\u001b[0m\n",
            "\u001b[0;31mNameError\u001b[0m: name 'components' is not defined"
          ]
        }
      ]
    },
    {
      "cell_type": "code",
      "metadata": {
        "id": "6TXoJziGB0sx"
      },
      "source": [
        "[components.relation_extractor.model.create_instance_tensor.get_instances]\n",
        "@misc = \"rel_instance_generator.v1\"\n",
        "max_length = 20"
      ],
      "execution_count": null,
      "outputs": []
    },
    {
      "cell_type": "code",
      "metadata": {
        "id": "UF0FOReJCF-3"
      },
      "source": [
        "!spacy project run train_gpu # command to train train transformers\n",
        "!spacy project run evaluate # command to evaluate on test dataset"
      ],
      "execution_count": null,
      "outputs": []
    },
    {
      "cell_type": "code",
      "metadata": {
        "id": "wp5qwqG1CGBe"
      },
      "source": [
        "!spacy project run train_cpu # command to train train tok2vec\n",
        "!spacy project run evaluate"
      ],
      "execution_count": null,
      "outputs": []
    },
    {
      "cell_type": "code",
      "metadata": {
        "id": "h_PjQWPzCGDo"
      },
      "source": [
        "# Transformer model\n",
        "\"performance\":{\n",
        "\"rel_micro_p\":0.8476190476,\n",
        "\"rel_micro_r\":0.9468085106,\n",
        "\"rel_micro_f\":0.8944723618,\n",
        "}\n",
        "# Tok2vec model\n",
        "  \"performance\":{\n",
        "\"rel_micro_p\":0.8604651163,\n",
        "\"rel_micro_r\":0.7872340426,\n",
        "\"rel_micro_f\":0.8222222222,\n",
        "}"
      ],
      "execution_count": null,
      "outputs": []
    },
    {
      "cell_type": "code",
      "metadata": {
        "id": "p6oEAgHeCGHA"
      },
      "source": [
        "import spacy\n",
        "nlp = spacy.load(\"NER Model Repo/model-best\")\n",
        "Text=['''2+ years of non-internship professional software development experience\n",
        "Programming experience with at least one modern language such as Java, C++, or C# including object-oriented design.\n",
        "1+ years of experience contributing to the architecture and design (architecture, design patterns, reliability and scaling) of new and current systems.\n",
        "Bachelor / MS Degree in Computer Science. Preferably a PhD in data science.\n",
        "8+ years of professional experience in software development. 2+ years of experience in project management.\n",
        "Experience in mentoring junior software engineers to improve their skills, and make them more effective, product software engineers.\n",
        "Experience in data structures, algorithm design, complexity analysis, object-oriented design.\n",
        "3+ years experience in at least one modern programming language such as Java, Scala, Python, C++, C#\n",
        "Experience in professional software engineering practices & best practices for the full software development life cycle, including coding standards, code reviews, source control management, build processes, testing, and operations\n",
        "Experience in communicating with users, other technical teams, and management to collect requirements, describe software product features, and technical designs.\n",
        "Experience with building complex software systems that have been successfully delivered to customers\n",
        "Proven ability to take a project from scoping requirements through actual launch of the project, with experience in the subsequent operation of the system in production''']\n",
        "for doc in nlp.pipe(text, disable=[\"tagger\"]):\n",
        "print(f\"spans: {[(e.start, e.text, e.label_) for e in doc.ents]}\")"
      ],
      "execution_count": null,
      "outputs": []
    },
    {
      "cell_type": "code",
      "metadata": {
        "id": "hqdDpKg-CPTm"
      },
      "source": [
        "import random\n",
        "import typer\n",
        "from pathlib import Path\n",
        "import spacy\n",
        "from spacy.tokens import DocBin, Doc\n",
        "from spacy.training.example import Example\n",
        "from rel_pipe import make_relation_extractor, score_relations\n",
        "from rel_model import create_relation_model, create_classification_layer, create_instances, create_tensors\n",
        "# We load the relation extraction (REL) model\n",
        "nlp2 = spacy.load(\"training/model-best\")\n",
        "# We take the entities generated from the NER pipeline and input them to the REL pipeline\n",
        "for name, proc in nlp2.pipeline:\n",
        "          doc = proc(doc)\n",
        "# Here, we split the paragraph into sentences and apply the relation extraction for each pair of entities found in each sentence.\n",
        "for value, rel_dict in doc._.rel.items():\n",
        "        for sent in doc.sents:\n",
        "          for e in sent.ents:\n",
        "            for b in sent.ents:\n",
        "              if e.start == value[0] and b.start == value[1]:\n",
        "                if rel_dict['EXPERIENCE_IN'] >=0.9 :\n",
        "                  print(f\" entities: {e.text, b.text} --> predicted relation: {rel_dict}\")"
      ],
      "execution_count": null,
      "outputs": []
    },
    {
      "cell_type": "markdown",
      "metadata": {
        "id": "h-d7IbD9Ed1K"
      },
      "source": [
        "##3"
      ]
    },
    {
      "cell_type": "code",
      "metadata": {
        "colab": {
          "base_uri": "https://localhost:8080/"
        },
        "id": "3Bqew30KGG-q",
        "outputId": "42e9941e-02a3-452f-858c-402ebe55725e"
      },
      "source": [
        "# https://www.analyticsvidhya.com/blog/2019/10/how-to-build-knowledge-graph-text-using-spacy/ \n",
        "# https://www.analyticsvidhya.com/blog/2019/10/how-to-build-knowledge-graph-text-using-spacy/ \n",
        "\n",
        "!python -m spacy validate"
      ],
      "execution_count": 2,
      "outputs": [
        {
          "output_type": "stream",
          "name": "stdout",
          "text": [
            "\r⠙ Loading compatibility table...\r⠹ Loading compatibility table...\r\u001b[2K\u001b[38;5;2m✔ Loaded compatibility table\u001b[0m\n",
            "\u001b[1m\n",
            "====================== Installed models (spaCy v2.2.4) ======================\u001b[0m\n",
            "\u001b[38;5;4mℹ spaCy installation: /usr/local/lib/python3.7/dist-packages/spacy\u001b[0m\n",
            "\n",
            "TYPE      NAME             MODEL            VERSION                            \n",
            "package   en-core-web-sm   en_core_web_sm   \u001b[38;5;2m2.2.5\u001b[0m   \u001b[38;5;2m✔\u001b[0m\n",
            "link      en               en_core_web_sm   \u001b[38;5;2m2.2.5\u001b[0m   \u001b[38;5;2m✔\u001b[0m\n",
            "\n"
          ]
        }
      ]
    },
    {
      "cell_type": "code",
      "metadata": {
        "colab": {
          "base_uri": "https://localhost:8080/",
          "height": 1000
        },
        "id": "VVY2CqXdFyRE",
        "outputId": "ba742907-2c46-4158-e162-ed7fbe6465de"
      },
      "source": [
        "!pip install nltk\n",
        "\n",
        "!pip install spacy==2.3.1\n",
        "\n",
        "!pip install https://github.com/explosion/spacy-models/releases/download/en_core_web_sm-3.0.0/en_core_web_sm-3.0.0.tar.gz\n",
        "\n",
        "#!pip install https://github.com/explosion/spacy-models/releases/download/en_core_web_sm-2.3.1/en_core_web_sm-2.3.1.tar.gz\n",
        "\n",
        "!pip install pyresparser"
      ],
      "execution_count": null,
      "outputs": [
        {
          "output_type": "stream",
          "name": "stdout",
          "text": [
            "Requirement already satisfied: nltk in /usr/local/lib/python3.7/dist-packages (3.6.3)\n",
            "Requirement already satisfied: tqdm in /usr/local/lib/python3.7/dist-packages (from nltk) (4.62.2)\n",
            "Requirement already satisfied: click in /usr/local/lib/python3.7/dist-packages (from nltk) (7.1.2)\n",
            "Requirement already satisfied: regex in /usr/local/lib/python3.7/dist-packages (from nltk) (2019.12.20)\n",
            "Requirement already satisfied: joblib in /usr/local/lib/python3.7/dist-packages (from nltk) (1.0.1)\n",
            "\u001b[33mWARNING: Running pip as the 'root' user can result in broken permissions and conflicting behaviour with the system package manager. It is recommended to use a virtual environment instead: https://pip.pypa.io/warnings/venv\u001b[0m\n",
            "Requirement already satisfied: spacy==2.3.1 in /usr/local/lib/python3.7/dist-packages (2.3.1)\n",
            "Requirement already satisfied: catalogue<1.1.0,>=0.0.7 in /usr/local/lib/python3.7/dist-packages (from spacy==2.3.1) (1.0.0)\n",
            "Requirement already satisfied: tqdm<5.0.0,>=4.38.0 in /usr/local/lib/python3.7/dist-packages (from spacy==2.3.1) (4.62.2)\n",
            "Requirement already satisfied: cymem<2.1.0,>=2.0.2 in /usr/local/lib/python3.7/dist-packages (from spacy==2.3.1) (2.0.5)\n",
            "Requirement already satisfied: requests<3.0.0,>=2.13.0 in /usr/local/lib/python3.7/dist-packages (from spacy==2.3.1) (2.23.0)\n",
            "Requirement already satisfied: srsly<1.1.0,>=1.0.2 in /usr/local/lib/python3.7/dist-packages (from spacy==2.3.1) (1.0.5)\n",
            "Requirement already satisfied: thinc==7.4.1 in /usr/local/lib/python3.7/dist-packages (from spacy==2.3.1) (7.4.1)\n",
            "Requirement already satisfied: preshed<3.1.0,>=3.0.2 in /usr/local/lib/python3.7/dist-packages (from spacy==2.3.1) (3.0.5)\n",
            "Requirement already satisfied: numpy>=1.15.0 in /usr/local/lib/python3.7/dist-packages (from spacy==2.3.1) (1.19.5)\n",
            "Requirement already satisfied: plac<1.2.0,>=0.9.6 in /usr/local/lib/python3.7/dist-packages (from spacy==2.3.1) (1.1.3)\n",
            "Requirement already satisfied: wasabi<1.1.0,>=0.4.0 in /usr/local/lib/python3.7/dist-packages (from spacy==2.3.1) (0.8.2)\n",
            "Requirement already satisfied: blis<0.5.0,>=0.4.0 in /usr/local/lib/python3.7/dist-packages (from spacy==2.3.1) (0.4.1)\n",
            "Requirement already satisfied: setuptools in /usr/local/lib/python3.7/dist-packages (from spacy==2.3.1) (58.1.0)\n",
            "Requirement already satisfied: murmurhash<1.1.0,>=0.28.0 in /usr/local/lib/python3.7/dist-packages (from spacy==2.3.1) (1.0.5)\n",
            "Requirement already satisfied: importlib-metadata>=0.20 in /usr/local/lib/python3.7/dist-packages (from catalogue<1.1.0,>=0.0.7->spacy==2.3.1) (4.8.1)\n",
            "Requirement already satisfied: typing-extensions>=3.6.4 in /usr/local/lib/python3.7/dist-packages (from importlib-metadata>=0.20->catalogue<1.1.0,>=0.0.7->spacy==2.3.1) (3.7.4.3)\n",
            "Requirement already satisfied: zipp>=0.5 in /usr/local/lib/python3.7/dist-packages (from importlib-metadata>=0.20->catalogue<1.1.0,>=0.0.7->spacy==2.3.1) (3.5.0)\n",
            "Requirement already satisfied: certifi>=2017.4.17 in /usr/local/lib/python3.7/dist-packages (from requests<3.0.0,>=2.13.0->spacy==2.3.1) (2021.5.30)\n",
            "Requirement already satisfied: idna<3,>=2.5 in /usr/local/lib/python3.7/dist-packages (from requests<3.0.0,>=2.13.0->spacy==2.3.1) (2.10)\n",
            "Requirement already satisfied: chardet<4,>=3.0.2 in /usr/local/lib/python3.7/dist-packages (from requests<3.0.0,>=2.13.0->spacy==2.3.1) (3.0.4)\n",
            "Requirement already satisfied: urllib3!=1.25.0,!=1.25.1,<1.26,>=1.21.1 in /usr/local/lib/python3.7/dist-packages (from requests<3.0.0,>=2.13.0->spacy==2.3.1) (1.25.11)\n",
            "\u001b[33mWARNING: Running pip as the 'root' user can result in broken permissions and conflicting behaviour with the system package manager. It is recommended to use a virtual environment instead: https://pip.pypa.io/warnings/venv\u001b[0m\n",
            "Collecting https://github.com/explosion/spacy-models/releases/download/en_core_web_sm-3.0.0/en_core_web_sm-3.0.0.tar.gz\n",
            "  Downloading https://github.com/explosion/spacy-models/releases/download/en_core_web_sm-3.0.0/en_core_web_sm-3.0.0.tar.gz (13.7 MB)\n",
            "\u001b[K     |████████████████████████████████| 13.7 MB 235 kB/s \n",
            "\u001b[?25hCollecting spacy<3.1.0,>=3.0.0\n",
            "  Downloading spacy-3.0.7-cp37-cp37m-manylinux_2_17_x86_64.manylinux2014_x86_64.whl (6.3 MB)\n",
            "\u001b[K     |████████████████████████████████| 6.3 MB 4.5 MB/s \n",
            "\u001b[?25hCollecting thinc<8.1.0,>=8.0.3\n",
            "  Using cached thinc-8.0.10-cp37-cp37m-manylinux_2_17_x86_64.manylinux2014_x86_64.whl (623 kB)\n",
            "Requirement already satisfied: preshed<3.1.0,>=3.0.2 in /usr/local/lib/python3.7/dist-packages (from spacy<3.1.0,>=3.0.0->en-core-web-sm==3.0.0) (3.0.5)\n",
            "Requirement already satisfied: murmurhash<1.1.0,>=0.28.0 in /usr/local/lib/python3.7/dist-packages (from spacy<3.1.0,>=3.0.0->en-core-web-sm==3.0.0) (1.0.5)\n",
            "Collecting srsly<3.0.0,>=2.4.1\n",
            "  Using cached srsly-2.4.1-cp37-cp37m-manylinux2014_x86_64.whl (456 kB)\n",
            "Requirement already satisfied: numpy>=1.15.0 in /usr/local/lib/python3.7/dist-packages (from spacy<3.1.0,>=3.0.0->en-core-web-sm==3.0.0) (1.19.5)\n",
            "Requirement already satisfied: jinja2 in /usr/local/lib/python3.7/dist-packages (from spacy<3.1.0,>=3.0.0->en-core-web-sm==3.0.0) (2.11.3)\n",
            "Requirement already satisfied: packaging>=20.0 in /usr/local/lib/python3.7/dist-packages (from spacy<3.1.0,>=3.0.0->en-core-web-sm==3.0.0) (21.0)\n",
            "Requirement already satisfied: pathy>=0.3.5 in /usr/local/lib/python3.7/dist-packages (from spacy<3.1.0,>=3.0.0->en-core-web-sm==3.0.0) (0.6.0)\n",
            "Requirement already satisfied: tqdm<5.0.0,>=4.38.0 in /usr/local/lib/python3.7/dist-packages (from spacy<3.1.0,>=3.0.0->en-core-web-sm==3.0.0) (4.62.2)\n",
            "Requirement already satisfied: cymem<2.1.0,>=2.0.2 in /usr/local/lib/python3.7/dist-packages (from spacy<3.1.0,>=3.0.0->en-core-web-sm==3.0.0) (2.0.5)\n",
            "Requirement already satisfied: typer<0.4.0,>=0.3.0 in /usr/local/lib/python3.7/dist-packages (from spacy<3.1.0,>=3.0.0->en-core-web-sm==3.0.0) (0.3.2)\n",
            "Requirement already satisfied: pydantic!=1.8,!=1.8.1,<1.9.0,>=1.7.4 in /usr/local/lib/python3.7/dist-packages (from spacy<3.1.0,>=3.0.0->en-core-web-sm==3.0.0) (1.7.4)\n",
            "Requirement already satisfied: spacy-legacy<3.1.0,>=3.0.5 in /usr/local/lib/python3.7/dist-packages (from spacy<3.1.0,>=3.0.0->en-core-web-sm==3.0.0) (3.0.8)\n",
            "Collecting catalogue<2.1.0,>=2.0.4\n",
            "  Using cached catalogue-2.0.6-py3-none-any.whl (17 kB)\n",
            "Requirement already satisfied: typing-extensions<4.0.0.0,>=3.7.4 in /usr/local/lib/python3.7/dist-packages (from spacy<3.1.0,>=3.0.0->en-core-web-sm==3.0.0) (3.7.4.3)\n",
            "Requirement already satisfied: setuptools in /usr/local/lib/python3.7/dist-packages (from spacy<3.1.0,>=3.0.0->en-core-web-sm==3.0.0) (58.1.0)\n",
            "Requirement already satisfied: requests<3.0.0,>=2.13.0 in /usr/local/lib/python3.7/dist-packages (from spacy<3.1.0,>=3.0.0->en-core-web-sm==3.0.0) (2.23.0)\n",
            "Requirement already satisfied: wasabi<1.1.0,>=0.8.1 in /usr/local/lib/python3.7/dist-packages (from spacy<3.1.0,>=3.0.0->en-core-web-sm==3.0.0) (0.8.2)\n",
            "Requirement already satisfied: blis<0.8.0,>=0.4.0 in /usr/local/lib/python3.7/dist-packages (from spacy<3.1.0,>=3.0.0->en-core-web-sm==3.0.0) (0.4.1)\n",
            "Requirement already satisfied: zipp>=0.5 in /usr/local/lib/python3.7/dist-packages (from catalogue<2.1.0,>=2.0.4->spacy<3.1.0,>=3.0.0->en-core-web-sm==3.0.0) (3.5.0)\n",
            "Requirement already satisfied: pyparsing>=2.0.2 in /usr/local/lib/python3.7/dist-packages (from packaging>=20.0->spacy<3.1.0,>=3.0.0->en-core-web-sm==3.0.0) (2.4.7)\n",
            "Requirement already satisfied: smart-open<6.0.0,>=5.0.0 in /usr/local/lib/python3.7/dist-packages (from pathy>=0.3.5->spacy<3.1.0,>=3.0.0->en-core-web-sm==3.0.0) (5.2.1)\n",
            "Requirement already satisfied: idna<3,>=2.5 in /usr/local/lib/python3.7/dist-packages (from requests<3.0.0,>=2.13.0->spacy<3.1.0,>=3.0.0->en-core-web-sm==3.0.0) (2.10)\n",
            "Requirement already satisfied: chardet<4,>=3.0.2 in /usr/local/lib/python3.7/dist-packages (from requests<3.0.0,>=2.13.0->spacy<3.1.0,>=3.0.0->en-core-web-sm==3.0.0) (3.0.4)\n",
            "Requirement already satisfied: certifi>=2017.4.17 in /usr/local/lib/python3.7/dist-packages (from requests<3.0.0,>=2.13.0->spacy<3.1.0,>=3.0.0->en-core-web-sm==3.0.0) (2021.5.30)\n",
            "Requirement already satisfied: urllib3!=1.25.0,!=1.25.1,<1.26,>=1.21.1 in /usr/local/lib/python3.7/dist-packages (from requests<3.0.0,>=2.13.0->spacy<3.1.0,>=3.0.0->en-core-web-sm==3.0.0) (1.25.11)\n",
            "Requirement already satisfied: click<7.2.0,>=7.1.1 in /usr/local/lib/python3.7/dist-packages (from typer<0.4.0,>=0.3.0->spacy<3.1.0,>=3.0.0->en-core-web-sm==3.0.0) (7.1.2)\n",
            "Requirement already satisfied: MarkupSafe>=0.23 in /usr/local/lib/python3.7/dist-packages (from jinja2->spacy<3.1.0,>=3.0.0->en-core-web-sm==3.0.0) (2.0.1)\n",
            "Building wheels for collected packages: en-core-web-sm\n",
            "  Building wheel for en-core-web-sm (setup.py) ... \u001b[?25l\u001b[?25hdone\n",
            "  Created wheel for en-core-web-sm: filename=en_core_web_sm-3.0.0-py3-none-any.whl size=13704318 sha256=b639a56d1f7c0c991ee855833d930205ed2f9b911a004179bf8767bc899ed5b2\n",
            "  Stored in directory: /root/.cache/pip/wheels/2d/86/ba/c33ceff8af5cb8a963e86131912039d39b37227f9787661bca\n",
            "Successfully built en-core-web-sm\n",
            "Installing collected packages: catalogue, srsly, thinc, spacy, en-core-web-sm\n",
            "  Attempting uninstall: catalogue\n",
            "    Found existing installation: catalogue 1.0.0\n",
            "    Uninstalling catalogue-1.0.0:\n",
            "      Successfully uninstalled catalogue-1.0.0\n",
            "  Attempting uninstall: srsly\n",
            "    Found existing installation: srsly 1.0.5\n",
            "    Uninstalling srsly-1.0.5:\n",
            "      Successfully uninstalled srsly-1.0.5\n",
            "  Attempting uninstall: thinc\n",
            "    Found existing installation: thinc 7.4.1\n",
            "    Uninstalling thinc-7.4.1:\n",
            "      Successfully uninstalled thinc-7.4.1\n",
            "  Attempting uninstall: spacy\n",
            "    Found existing installation: spacy 2.3.1\n",
            "    Uninstalling spacy-2.3.1:\n",
            "      Successfully uninstalled spacy-2.3.1\n",
            "  Attempting uninstall: en-core-web-sm\n",
            "    Found existing installation: en-core-web-sm 2.3.1\n",
            "    Uninstalling en-core-web-sm-2.3.1:\n",
            "      Successfully uninstalled en-core-web-sm-2.3.1\n",
            "\u001b[31mERROR: pip's dependency resolver does not currently take into account all the packages that are installed. This behaviour is the source of the following dependency conflicts.\n",
            "spacy-transformers 1.0.4 requires transformers<4.10.0,>=3.4.0, but you have transformers 4.10.3 which is incompatible.\u001b[0m\n",
            "Successfully installed catalogue-2.0.6 en-core-web-sm-3.0.0 spacy-3.0.7 srsly-2.4.1 thinc-8.0.10\n",
            "\u001b[33mWARNING: Running pip as the 'root' user can result in broken permissions and conflicting behaviour with the system package manager. It is recommended to use a virtual environment instead: https://pip.pypa.io/warnings/venv\u001b[0m\n"
          ]
        },
        {
          "output_type": "display_data",
          "data": {
            "application/vnd.colab-display-data+json": {
              "pip_warning": {
                "packages": [
                  "catalogue",
                  "en_core_web_sm",
                  "spacy",
                  "srsly",
                  "thinc"
                ]
              }
            }
          },
          "metadata": {}
        },
        {
          "output_type": "stream",
          "name": "stdout",
          "text": [
            "Requirement already satisfied: pyresparser in /usr/local/lib/python3.7/dist-packages (1.0.6)\n",
            "Requirement already satisfied: chardet>=3.0.4 in /usr/local/lib/python3.7/dist-packages (from pyresparser) (3.0.4)\n",
            "Requirement already satisfied: numpy>=1.16.4 in /usr/local/lib/python3.7/dist-packages (from pyresparser) (1.19.5)\n",
            "Requirement already satisfied: cymem>=2.0.2 in /usr/local/lib/python3.7/dist-packages (from pyresparser) (2.0.5)\n",
            "Requirement already satisfied: idna>=2.8 in /usr/local/lib/python3.7/dist-packages (from pyresparser) (2.10)\n",
            "Requirement already satisfied: wasabi>=0.2.2 in /usr/local/lib/python3.7/dist-packages (from pyresparser) (0.8.2)\n",
            "Requirement already satisfied: blis>=0.2.4 in /usr/local/lib/python3.7/dist-packages (from pyresparser) (0.4.1)\n",
            "Requirement already satisfied: nltk>=3.4.3 in /usr/local/lib/python3.7/dist-packages (from pyresparser) (3.6.3)\n",
            "Requirement already satisfied: pyrsistent>=0.15.2 in /usr/local/lib/python3.7/dist-packages (from pyresparser) (0.18.0)\n",
            "Requirement already satisfied: pytz>=2019.1 in /usr/local/lib/python3.7/dist-packages (from pyresparser) (2021.1)\n",
            "Requirement already satisfied: requests>=2.22.0 in /usr/local/lib/python3.7/dist-packages (from pyresparser) (2.23.0)\n",
            "Requirement already satisfied: thinc>=7.0.4 in /usr/local/lib/python3.7/dist-packages (from pyresparser) (8.0.10)\n",
            "Requirement already satisfied: sortedcontainers>=2.1.0 in /usr/local/lib/python3.7/dist-packages (from pyresparser) (2.4.0)\n",
            "Requirement already satisfied: docx2txt>=0.7 in /usr/local/lib/python3.7/dist-packages (from pyresparser) (0.8)\n",
            "Requirement already satisfied: attrs>=19.1.0 in /usr/local/lib/python3.7/dist-packages (from pyresparser) (21.2.0)\n",
            "Requirement already satisfied: six>=1.12.0 in /usr/local/lib/python3.7/dist-packages (from pyresparser) (1.15.0)\n",
            "Requirement already satisfied: certifi>=2019.6.16 in /usr/local/lib/python3.7/dist-packages (from pyresparser) (2021.5.30)\n",
            "Requirement already satisfied: urllib3>=1.25.3 in /usr/local/lib/python3.7/dist-packages (from pyresparser) (1.25.11)\n",
            "Requirement already satisfied: srsly>=0.0.7 in /usr/local/lib/python3.7/dist-packages (from pyresparser) (2.4.1)\n",
            "Requirement already satisfied: python-dateutil>=2.8.0 in /usr/local/lib/python3.7/dist-packages (from pyresparser) (2.8.2)\n",
            "Requirement already satisfied: pandas>=0.24.2 in /usr/local/lib/python3.7/dist-packages (from pyresparser) (1.1.5)\n",
            "Requirement already satisfied: spacy>=2.1.4 in /usr/local/lib/python3.7/dist-packages (from pyresparser) (3.0.7)\n",
            "Requirement already satisfied: pdfminer.six>=20181108 in /usr/local/lib/python3.7/dist-packages (from pyresparser) (20201018)\n",
            "Requirement already satisfied: tqdm>=4.32.2 in /usr/local/lib/python3.7/dist-packages (from pyresparser) (4.62.2)\n",
            "Requirement already satisfied: pycryptodome>=3.8.2 in /usr/local/lib/python3.7/dist-packages (from pyresparser) (3.10.1)\n",
            "Requirement already satisfied: jsonschema>=3.0.1 in /usr/local/lib/python3.7/dist-packages (from pyresparser) (3.2.0)\n",
            "Requirement already satisfied: preshed>=2.0.1 in /usr/local/lib/python3.7/dist-packages (from pyresparser) (3.0.5)\n",
            "Requirement already satisfied: setuptools in /usr/local/lib/python3.7/dist-packages (from jsonschema>=3.0.1->pyresparser) (58.1.0)\n",
            "Requirement already satisfied: importlib-metadata in /usr/local/lib/python3.7/dist-packages (from jsonschema>=3.0.1->pyresparser) (4.8.1)\n",
            "Requirement already satisfied: joblib in /usr/local/lib/python3.7/dist-packages (from nltk>=3.4.3->pyresparser) (1.0.1)\n",
            "Requirement already satisfied: regex in /usr/local/lib/python3.7/dist-packages (from nltk>=3.4.3->pyresparser) (2019.12.20)\n",
            "Requirement already satisfied: click in /usr/local/lib/python3.7/dist-packages (from nltk>=3.4.3->pyresparser) (7.1.2)\n",
            "Requirement already satisfied: cryptography in /usr/local/lib/python3.7/dist-packages (from pdfminer.six>=20181108->pyresparser) (3.4.8)\n",
            "Requirement already satisfied: murmurhash<1.1.0,>=0.28.0 in /usr/local/lib/python3.7/dist-packages (from preshed>=2.0.1->pyresparser) (1.0.5)\n",
            "Requirement already satisfied: spacy-legacy<3.1.0,>=3.0.5 in /usr/local/lib/python3.7/dist-packages (from spacy>=2.1.4->pyresparser) (3.0.8)\n",
            "Requirement already satisfied: typer<0.4.0,>=0.3.0 in /usr/local/lib/python3.7/dist-packages (from spacy>=2.1.4->pyresparser) (0.3.2)\n",
            "Requirement already satisfied: typing-extensions<4.0.0.0,>=3.7.4 in /usr/local/lib/python3.7/dist-packages (from spacy>=2.1.4->pyresparser) (3.7.4.3)\n",
            "Requirement already satisfied: packaging>=20.0 in /usr/local/lib/python3.7/dist-packages (from spacy>=2.1.4->pyresparser) (21.0)\n",
            "Requirement already satisfied: pydantic!=1.8,!=1.8.1,<1.9.0,>=1.7.4 in /usr/local/lib/python3.7/dist-packages (from spacy>=2.1.4->pyresparser) (1.7.4)\n",
            "Requirement already satisfied: jinja2 in /usr/local/lib/python3.7/dist-packages (from spacy>=2.1.4->pyresparser) (2.11.3)\n",
            "Requirement already satisfied: pathy>=0.3.5 in /usr/local/lib/python3.7/dist-packages (from spacy>=2.1.4->pyresparser) (0.6.0)\n",
            "Requirement already satisfied: catalogue<2.1.0,>=2.0.4 in /usr/local/lib/python3.7/dist-packages (from spacy>=2.1.4->pyresparser) (2.0.6)\n",
            "Requirement already satisfied: zipp>=0.5 in /usr/local/lib/python3.7/dist-packages (from catalogue<2.1.0,>=2.0.4->spacy>=2.1.4->pyresparser) (3.5.0)\n",
            "Requirement already satisfied: pyparsing>=2.0.2 in /usr/local/lib/python3.7/dist-packages (from packaging>=20.0->spacy>=2.1.4->pyresparser) (2.4.7)\n",
            "Requirement already satisfied: smart-open<6.0.0,>=5.0.0 in /usr/local/lib/python3.7/dist-packages (from pathy>=0.3.5->spacy>=2.1.4->pyresparser) (5.2.1)\n",
            "Requirement already satisfied: cffi>=1.12 in /usr/local/lib/python3.7/dist-packages (from cryptography->pdfminer.six>=20181108->pyresparser) (1.14.6)\n",
            "Requirement already satisfied: pycparser in /usr/local/lib/python3.7/dist-packages (from cffi>=1.12->cryptography->pdfminer.six>=20181108->pyresparser) (2.20)\n",
            "Requirement already satisfied: MarkupSafe>=0.23 in /usr/local/lib/python3.7/dist-packages (from jinja2->spacy>=2.1.4->pyresparser) (2.0.1)\n",
            "\u001b[33mWARNING: Running pip as the 'root' user can result in broken permissions and conflicting behaviour with the system package manager. It is recommended to use a virtual environment instead: https://pip.pypa.io/warnings/venv\u001b[0m\n"
          ]
        }
      ]
    },
    {
      "cell_type": "code",
      "metadata": {
        "id": "YeOBmzhRCPX6"
      },
      "source": [
        "import spacy\n",
        "nlp = spacy.load('en_core_web_sm')"
      ],
      "execution_count": 24,
      "outputs": []
    },
    {
      "cell_type": "code",
      "metadata": {
        "colab": {
          "base_uri": "https://localhost:8080/"
        },
        "id": "IV1Pk9OhCPbk",
        "outputId": "f437eec6-ebb4-4370-f314-b99ac9c7adeb"
      },
      "source": [
        "doc = nlp(\"The 22-year-old recently won ATP Challenger tournament.\")\n",
        "\n",
        "for tok in doc:\n",
        "  print(tok.text, \"...\", tok.dep_)"
      ],
      "execution_count": 25,
      "outputs": [
        {
          "output_type": "stream",
          "name": "stdout",
          "text": [
            "The ... det\n",
            "22-year ... npadvmod\n",
            "- ... punct\n",
            "old ... nsubj\n",
            "recently ... advmod\n",
            "won ... ROOT\n",
            "ATP ... compound\n",
            "Challenger ... compound\n",
            "tournament ... dobj\n",
            ". ... punct\n"
          ]
        }
      ]
    },
    {
      "cell_type": "code",
      "metadata": {
        "colab": {
          "base_uri": "https://localhost:8080/"
        },
        "id": "STL43CKOHfMs",
        "outputId": "37c733bf-7694-406e-c69e-824d08aa4693"
      },
      "source": [
        "doc = nlp(\"Nagal won the first set.\")\n",
        "\n",
        "for tok in doc:\n",
        "  print(tok.text, \"...\", tok.dep_)"
      ],
      "execution_count": 26,
      "outputs": [
        {
          "output_type": "stream",
          "name": "stdout",
          "text": [
            "Nagal ... nsubj\n",
            "won ... ROOT\n",
            "the ... det\n",
            "first ... amod\n",
            "set ... dobj\n",
            ". ... punct\n"
          ]
        }
      ]
    },
    {
      "cell_type": "code",
      "metadata": {
        "id": "lpQVOPJnHfPY"
      },
      "source": [
        "import re\n",
        "import pandas as pd\n",
        "import bs4\n",
        "import requests\n",
        "import spacy\n",
        "from spacy import displacy\n",
        "nlp = spacy.load('en_core_web_sm')\n",
        "\n",
        "from spacy.matcher import Matcher \n",
        "from spacy.tokens import Span \n",
        "\n",
        "import networkx as nx\n",
        "\n",
        "import matplotlib.pyplot as plt\n",
        "from tqdm import tqdm\n",
        "\n",
        "pd.set_option('display.max_colwidth', 200)\n",
        "%matplotlib inline"
      ],
      "execution_count": 27,
      "outputs": []
    },
    {
      "cell_type": "code",
      "metadata": {
        "colab": {
          "base_uri": "https://localhost:8080/"
        },
        "id": "G_Vdb0I3Hfhz",
        "outputId": "0fb88605-c295-433f-f61a-93d2a2b4daf1"
      },
      "source": [
        "# import wikipedia sentences\n",
        "candidate_sentences = pd.read_csv(\"/content/drive/MyDrive/버트연구보조원/data1/drugsComTrain_raw.csv\", engine='python')\n",
        "candidate_sentences.shape"
      ],
      "execution_count": 84,
      "outputs": [
        {
          "output_type": "execute_result",
          "data": {
            "text/plain": [
              "(72608, 4)"
            ]
          },
          "metadata": {},
          "execution_count": 84
        }
      ]
    },
    {
      "cell_type": "code",
      "metadata": {
        "id": "7d2PJiotgPwv"
      },
      "source": [
        "candidate_sentences[\"review\"] = candidate_sentences.review.str.replace('\"', '')\n",
        "candidate_sentences[\"review\"] = candidate_sentences.review.str.replace('\\n', '')"
      ],
      "execution_count": 85,
      "outputs": []
    },
    {
      "cell_type": "code",
      "metadata": {
        "colab": {
          "base_uri": "https://localhost:8080/"
        },
        "id": "ePtTgjDUhLXb",
        "outputId": "2ae2493e-87ee-4194-8e9d-a44271d8dd08"
      },
      "source": [
        "import re\n",
        "\n",
        "for i in range(len(candidate_sentences[\"review\"])):\n",
        "  candidate_sentences[\"review\"].loc[i] = re.sub('[^a-zA-Z0-9\\s\\.]','',candidate_sentences[\"review\"].loc[i])"
      ],
      "execution_count": 86,
      "outputs": [
        {
          "output_type": "stream",
          "name": "stderr",
          "text": [
            "/usr/local/lib/python3.7/dist-packages/pandas/core/indexing.py:670: SettingWithCopyWarning: \n",
            "A value is trying to be set on a copy of a slice from a DataFrame\n",
            "\n",
            "See the caveats in the documentation: https://pandas.pydata.org/pandas-docs/stable/user_guide/indexing.html#returning-a-view-versus-a-copy\n",
            "  iloc._setitem_with_indexer(indexer, value)\n"
          ]
        }
      ]
    },
    {
      "cell_type": "code",
      "metadata": {
        "colab": {
          "base_uri": "https://localhost:8080/"
        },
        "id": "YKS4tZ4khLbm",
        "outputId": "dc88435b-a7f2-4d22-bd08-a059388c05c2"
      },
      "source": [
        "candidate_sentences[\"review\"].loc[:9]"
      ],
      "execution_count": 87,
      "outputs": [
        {
          "output_type": "execute_result",
          "data": {
            "text/plain": [
              "0                                                                      He pulled out but he cummed a bit in me. I took the Plan B 26 hours later and took a pregnancy test two weeks later   I039m pregnant.\n",
              "1    Abilify changed my life. There is hope. I was on Zoloft and Clonidine when I first started Abilify at the age of 15.. Zoloft for depression and Clondine to manage my complete rage. My moods were o...\n",
              "2                        I Ve had  nothing but problems with the Keppera  constant shaking in my arms amp legs amp pins amp needles feeling in my arms amp legs severe light headedness no appetite amp etc.\n",
              "3    I have taken antidepressants for years with some improvement but mostly moderate to severe side affects which makes me go off them.\\r\\rI only take Cymbalta now mostly for pain.\\r\\rWhen I began Dep...\n",
              "4    I039ve been on every medicine under the sun it seems to manage the hypomania  mania of Bipolar2. Within a few days of starting Lamictal was on Tegretol it was as if someone had turned a light on i...\n",
              "5    I have been on Tasigna for just over 3 years now 300mg x 2 times a day Tasigna worked for me within a few weeks I have been in remission for basically the entire 3 years. As for the side effects I...\n",
              "6    I have insomnia it039s horrible. My story begins with my PCP prescribing me Prozac to help with intestinal issues because I was desperate I tried it I was on it for 3 weeks. Stopped because of ins...\n",
              "7    I live in Western Australia and disturbed by some comments on here. The cost of Embrel is cost of an ordinary prescription 36 for me the government pays the remainder of the cost to the chemist. I...\n",
              "8                             Do not use the cream that comes with this. It turned my hooha into a burning ring of fire. It is 1 am and I have to work tomorrow. It039s going to be a sleepless night for me\n",
              "9    I039m writing a second review on Vaniqa.  I started using this in February this year. Twice a day although some daystimes I do forget. I just want to say how delighted I am to have found this. It ...\n",
              "Name: review, dtype: object"
            ]
          },
          "metadata": {},
          "execution_count": 87
        }
      ]
    },
    {
      "cell_type": "code",
      "metadata": {
        "colab": {
          "base_uri": "https://localhost:8080/"
        },
        "id": "spJBtu8nhLfS",
        "outputId": "d720e300-5c92-46bf-812a-20536d35ed4d"
      },
      "source": [
        "candidate_sentences.shape"
      ],
      "execution_count": 88,
      "outputs": [
        {
          "output_type": "execute_result",
          "data": {
            "text/plain": [
              "(72608, 4)"
            ]
          },
          "metadata": {},
          "execution_count": 88
        }
      ]
    },
    {
      "cell_type": "code",
      "metadata": {
        "colab": {
          "base_uri": "https://localhost:8080/",
          "height": 275
        },
        "id": "iPx-mbTJIauc",
        "outputId": "63ecc3f8-29fc-4a1f-a44e-cdc6145c76de"
      },
      "source": [
        "candidate_sentences.head()"
      ],
      "execution_count": 89,
      "outputs": [
        {
          "output_type": "execute_result",
          "data": {
            "text/html": [
              "<div>\n",
              "<style scoped>\n",
              "    .dataframe tbody tr th:only-of-type {\n",
              "        vertical-align: middle;\n",
              "    }\n",
              "\n",
              "    .dataframe tbody tr th {\n",
              "        vertical-align: top;\n",
              "    }\n",
              "\n",
              "    .dataframe thead th {\n",
              "        text-align: right;\n",
              "    }\n",
              "</style>\n",
              "<table border=\"1\" class=\"dataframe\">\n",
              "  <thead>\n",
              "    <tr style=\"text-align: right;\">\n",
              "      <th></th>\n",
              "      <th>uniqueID</th>\n",
              "      <th>review</th>\n",
              "      <th>rating</th>\n",
              "      <th>label</th>\n",
              "    </tr>\n",
              "  </thead>\n",
              "  <tbody>\n",
              "    <tr>\n",
              "      <th>0</th>\n",
              "      <td>165907</td>\n",
              "      <td>He pulled out but he cummed a bit in me. I took the Plan B 26 hours later and took a pregnancy test two weeks later   I039m pregnant.</td>\n",
              "      <td>1</td>\n",
              "      <td>0</td>\n",
              "    </tr>\n",
              "    <tr>\n",
              "      <th>1</th>\n",
              "      <td>102654</td>\n",
              "      <td>Abilify changed my life. There is hope. I was on Zoloft and Clonidine when I first started Abilify at the age of 15.. Zoloft for depression and Clondine to manage my complete rage. My moods were o...</td>\n",
              "      <td>10</td>\n",
              "      <td>1</td>\n",
              "    </tr>\n",
              "    <tr>\n",
              "      <th>2</th>\n",
              "      <td>74811</td>\n",
              "      <td>I Ve had  nothing but problems with the Keppera  constant shaking in my arms amp legs amp pins amp needles feeling in my arms amp legs severe light headedness no appetite amp etc.</td>\n",
              "      <td>1</td>\n",
              "      <td>0</td>\n",
              "    </tr>\n",
              "    <tr>\n",
              "      <th>3</th>\n",
              "      <td>75612</td>\n",
              "      <td>I have taken antidepressants for years with some improvement but mostly moderate to severe side affects which makes me go off them.\\r\\rI only take Cymbalta now mostly for pain.\\r\\rWhen I began Dep...</td>\n",
              "      <td>10</td>\n",
              "      <td>1</td>\n",
              "    </tr>\n",
              "    <tr>\n",
              "      <th>4</th>\n",
              "      <td>212077</td>\n",
              "      <td>I039ve been on every medicine under the sun it seems to manage the hypomania  mania of Bipolar2. Within a few days of starting Lamictal was on Tegretol it was as if someone had turned a light on i...</td>\n",
              "      <td>10</td>\n",
              "      <td>1</td>\n",
              "    </tr>\n",
              "  </tbody>\n",
              "</table>\n",
              "</div>"
            ],
            "text/plain": [
              "   uniqueID  ... label\n",
              "0    165907  ...     0\n",
              "1    102654  ...     1\n",
              "2     74811  ...     0\n",
              "3     75612  ...     1\n",
              "4    212077  ...     1\n",
              "\n",
              "[5 rows x 4 columns]"
            ]
          },
          "metadata": {},
          "execution_count": 89
        }
      ]
    },
    {
      "cell_type": "code",
      "metadata": {
        "colab": {
          "base_uri": "https://localhost:8080/"
        },
        "id": "2F7lNFgDHfkD",
        "outputId": "8401cb0a-dd7e-404d-9ac9-67ec6f31515f"
      },
      "source": [
        "candidate_sentences['review'].sample(5)"
      ],
      "execution_count": 90,
      "outputs": [
        {
          "output_type": "execute_result",
          "data": {
            "text/plain": [
              "7843                                      A few hours after taking this and the swelling on my feet due to gout has subsided. Colchicine Celecoxib and Etoricoxib does not work for me this worked like a charm.\n",
              "60253    I rated Lyrica as quotonequot because IF your prescription plan does not pay for it it is worth nothing to you UNLESS you are prepared to pay about 350.00 a month out of your own pocket.  It039s e...\n",
              "65905    NEVER AGAIN Please NO ONE  take Dulcolax. I like a few others in this forum have been on an eating plan for weight loss. Without much fibre I039ve been suffering from constipation. I finally had e...\n",
              "15622    I have had on and off insomnia since I was a teenager. For almost 10 years I took an OTC sleeping pill and it worked fine. Last winter I suddenly could not fall asleep with anything I took. I trie...\n",
              "28308    I was just like you girls reading these reviews terrified that plan B had failed. THIS DRUG WORKS Had sex with my boyfriend June 18th at around midnight1am. The condom broke and we got plan b 6 ho...\n",
              "Name: review, dtype: object"
            ]
          },
          "metadata": {},
          "execution_count": 90
        }
      ]
    },
    {
      "cell_type": "code",
      "metadata": {
        "colab": {
          "base_uri": "https://localhost:8080/"
        },
        "id": "fKJN_kYPHfnD",
        "outputId": "a63efb7c-2ef9-455d-8441-31d7b176219e"
      },
      "source": [
        "doc = nlp(\"the drawdown process is governed by astm standard d823\")\n",
        "\n",
        "for tok in doc:\n",
        "  print(tok.text, \"...\", tok.dep_)"
      ],
      "execution_count": 28,
      "outputs": [
        {
          "output_type": "stream",
          "name": "stdout",
          "text": [
            "the ... det\n",
            "drawdown ... amod\n",
            "process ... nsubjpass\n",
            "is ... auxpass\n",
            "governed ... ROOT\n",
            "by ... agent\n",
            "astm ... compound\n",
            "standard ... amod\n",
            "d823 ... pobj\n"
          ]
        }
      ]
    },
    {
      "cell_type": "code",
      "metadata": {
        "id": "6YdwhslZHydQ"
      },
      "source": [
        "def get_entities(sent):\n",
        "  ## chunk 1\n",
        "  ent1 = \"\"\n",
        "  ent2 = \"\"\n",
        "\n",
        "  prv_tok_dep = \"\"    # dependency tag of previous token in the sentence\n",
        "  prv_tok_text = \"\"   # previous token in the sentence\n",
        "\n",
        "  prefix = \"\"\n",
        "  modifier = \"\"\n",
        "\n",
        "  #############################################################\n",
        "  \n",
        "  for tok in nlp(sent):\n",
        "    ## chunk 2\n",
        "    # if token is a punctuation mark then move on to the next token\n",
        "    if tok.dep_ != \"punct\":\n",
        "      # check: token is a compound word or not\n",
        "      if tok.dep_ == \"compound\":\n",
        "        prefix = tok.text\n",
        "        # if the previous word was also a 'compound' then add the current word to it\n",
        "        if prv_tok_dep == \"compound\":\n",
        "          prefix = prv_tok_text + \" \"+ tok.text\n",
        "      \n",
        "      # check: token is a modifier or not\n",
        "      if tok.dep_.endswith(\"mod\") == True:\n",
        "        modifier = tok.text\n",
        "        # if the previous word was also a 'compound' then add the current word to it\n",
        "        if prv_tok_dep == \"compound\":\n",
        "          modifier = prv_tok_text + \" \"+ tok.text\n",
        "      \n",
        "      ## chunk 3\n",
        "      if tok.dep_.find(\"subj\") == True:\n",
        "        ent1 = modifier +\" \"+ prefix + \" \"+ tok.text\n",
        "        prefix = \"\"\n",
        "        modifier = \"\"\n",
        "        prv_tok_dep = \"\"\n",
        "        prv_tok_text = \"\"      \n",
        "\n",
        "      ## chunk 4\n",
        "      if tok.dep_.find(\"obj\") == True:\n",
        "        ent2 = modifier +\" \"+ prefix +\" \"+ tok.text\n",
        "        \n",
        "      ## chunk 5  \n",
        "      # update variables\n",
        "      prv_tok_dep = tok.dep_\n",
        "      prv_tok_text = tok.text\n",
        "  #############################################################\n",
        "\n",
        "  return [ent1.strip(), ent2.strip()]"
      ],
      "execution_count": 29,
      "outputs": []
    },
    {
      "cell_type": "code",
      "metadata": {
        "colab": {
          "base_uri": "https://localhost:8080/"
        },
        "id": "VCUSRuPcHyg7",
        "outputId": "672445e2-47d2-4bec-a530-f9d08e9a1b9b"
      },
      "source": [
        "get_entities(\"the film had 200 patents\")"
      ],
      "execution_count": 30,
      "outputs": [
        {
          "output_type": "execute_result",
          "data": {
            "text/plain": [
              "['film', '200  patents']"
            ]
          },
          "metadata": {},
          "execution_count": 30
        }
      ]
    },
    {
      "cell_type": "code",
      "metadata": {
        "colab": {
          "base_uri": "https://localhost:8080/"
        },
        "id": "VQ9-FRWGHyj0",
        "outputId": "bddf2266-2710-4c9f-8cf3-7464abaacd2f"
      },
      "source": [
        "entity_pairs = []\n",
        "\n",
        "for i in tqdm(candidate_sentences[\"review\"].loc[:9]):\n",
        "  #print('\\n',i)\n",
        "  entity_pairs.append(get_entities(i))"
      ],
      "execution_count": 91,
      "outputs": [
        {
          "output_type": "stream",
          "name": "stderr",
          "text": [
            "100%|██████████| 10/10 [00:00<00:00, 23.73it/s]\n"
          ]
        }
      ]
    },
    {
      "cell_type": "code",
      "metadata": {
        "colab": {
          "base_uri": "https://localhost:8080/"
        },
        "id": "ZjQTozrFIwob",
        "outputId": "a88772f7-df7a-43b2-d035-49110e33b94d"
      },
      "source": [
        "entity_pairs"
      ],
      "execution_count": 92,
      "outputs": [
        {
          "output_type": "execute_result",
          "data": {
            "text/plain": [
              "[['bit  I', 'later pregnancy test'],\n",
              " ['I', 'lot'],\n",
              " ['severe  light', 'appetite'],\n",
              " ['major  I', 'Best side effects'],\n",
              " ['hypo  I', '20  anxiety'],\n",
              " ['time  I', 'remission'],\n",
              " ['I', 'that'],\n",
              " ['medical  you', 'medical  help'],\n",
              " ['tomorrow  It039s', 'sleepless  me'],\n",
              " ['life', '10  mins']]"
            ]
          },
          "metadata": {},
          "execution_count": 92
        }
      ]
    },
    {
      "cell_type": "code",
      "metadata": {
        "id": "EMl8F8mCIwrc"
      },
      "source": [
        "def get_relation(sent):\n",
        "\n",
        "  doc = nlp(sent)\n",
        "\n",
        "  # Matcher class object \n",
        "  matcher = Matcher(nlp.vocab)\n",
        "\n",
        "  #define the pattern \n",
        "  pattern = [{'DEP':'ROOT'}, \n",
        "            {'DEP':'prep','OP':\"?\"},\n",
        "            {'DEP':'agent','OP':\"?\"},  \n",
        "            {'POS':'ADJ','OP':\"?\"}] \n",
        "\n",
        "  matcher.add(\"matching_1\", [pattern]) \n",
        "  matches = matcher(doc)\n",
        "  k = len(matches) - 1\n",
        "\n",
        "  span = doc[matches[k][1]:matches[k][2]] \n",
        "\n",
        "  return(span.text)"
      ],
      "execution_count": 93,
      "outputs": []
    },
    {
      "cell_type": "code",
      "metadata": {
        "colab": {
          "base_uri": "https://localhost:8080/",
          "height": 36
        },
        "id": "Jr-ycPVyIwua",
        "outputId": "171e5e6b-f481-44bb-9b41-1fdc059d1137"
      },
      "source": [
        "get_relation(\"John completed the task\")"
      ],
      "execution_count": 94,
      "outputs": [
        {
          "output_type": "execute_result",
          "data": {
            "application/vnd.google.colaboratory.intrinsic+json": {
              "type": "string"
            },
            "text/plain": [
              "'completed'"
            ]
          },
          "metadata": {},
          "execution_count": 94
        }
      ]
    },
    {
      "cell_type": "code",
      "metadata": {
        "colab": {
          "base_uri": "https://localhost:8080/"
        },
        "id": "u3niTYsMIwxD",
        "outputId": "f23eb614-c275-47c1-f71d-90d1fd58b190"
      },
      "source": [
        "relations = [get_relation(i) for i in tqdm(candidate_sentences[\"review\"].loc[:9])]"
      ],
      "execution_count": 95,
      "outputs": [
        {
          "output_type": "stream",
          "name": "stderr",
          "text": [
            "100%|██████████| 10/10 [00:00<00:00, 23.11it/s]\n"
          ]
        }
      ]
    },
    {
      "cell_type": "code",
      "metadata": {
        "colab": {
          "base_uri": "https://localhost:8080/"
        },
        "id": "Vm5PnAjHI79L",
        "outputId": "b477f3fe-f63e-4e8e-fdb2-382cb77784d0"
      },
      "source": [
        "pd.Series(relations).value_counts()[:50]"
      ],
      "execution_count": 96,
      "outputs": [
        {
          "output_type": "execute_result",
          "data": {
            "text/plain": [
              "is             2\n",
              "thing          1\n",
              "going          1\n",
              "etc            1\n",
              "took           1\n",
              "take           1\n",
              "Nope           1\n",
              "yeah           1\n",
              "transformed    1\n",
              "dtype: int64"
            ]
          },
          "metadata": {},
          "execution_count": 96
        }
      ]
    },
    {
      "cell_type": "code",
      "metadata": {
        "id": "7lZcKkvSI8A0"
      },
      "source": [
        "# extract subject\n",
        "source = [i[0] for i in entity_pairs]\n",
        "\n",
        "# extract object\n",
        "target = [i[1] for i in entity_pairs]\n",
        "\n",
        "kg_df = pd.DataFrame({'source':source, 'target':target, 'edge':relations})"
      ],
      "execution_count": 97,
      "outputs": []
    },
    {
      "cell_type": "code",
      "metadata": {
        "id": "BdgBLAiII8D9"
      },
      "source": [
        "# create a directed-graph from a dataframe\n",
        "G=nx.from_pandas_edgelist(kg_df, \"source\", \"target\", \n",
        "                          edge_attr=True, create_using=nx.MultiDiGraph())"
      ],
      "execution_count": 98,
      "outputs": []
    },
    {
      "cell_type": "code",
      "metadata": {
        "colab": {
          "base_uri": "https://localhost:8080/",
          "height": 895
        },
        "id": "zdgPKh7QI8H2",
        "outputId": "f0ad848d-fceb-4eaa-e83c-f998b5ebec08"
      },
      "source": [
        "plt.figure(figsize=(12,12))\n",
        "\n",
        "pos = nx.spring_layout(G)\n",
        "nx.draw(G, with_labels=True, node_color='skyblue', edge_cmap=plt.cm.Blues, pos = pos)\n",
        "plt.show()"
      ],
      "execution_count": 99,
      "outputs": [
        {
          "output_type": "display_data",
          "data": {
            "image/png": "[encoded data removed]",
            "text/plain": [
              "<Figure size 864x864 with 1 Axes>"
            ]
          },
          "metadata": {}
        }
      ]
    },
    {
      "cell_type": "code",
      "metadata": {
        "colab": {
          "base_uri": "https://localhost:8080/"
        },
        "id": "qzHMJFiEVNa8",
        "outputId": "b1de9188-0825-4b68-8d50-ebb0e8eb6e10"
      },
      "source": [
        "kg_df['edge']"
      ],
      "execution_count": 100,
      "outputs": [
        {
          "output_type": "execute_result",
          "data": {
            "text/plain": [
              "0           took\n",
              "1             is\n",
              "2            etc\n",
              "3          thing\n",
              "4           take\n",
              "5           Nope\n",
              "6           yeah\n",
              "7             is\n",
              "8          going\n",
              "9    transformed\n",
              "Name: edge, dtype: object"
            ]
          },
          "metadata": {},
          "execution_count": 100
        }
      ]
    },
    {
      "cell_type": "code",
      "metadata": {
        "colab": {
          "base_uri": "https://localhost:8080/",
          "height": 363
        },
        "id": "rGFyH6JiVuEx",
        "outputId": "170305b9-2c4d-4255-a2b8-8bec2174f57a"
      },
      "source": [
        "kg_df"
      ],
      "execution_count": 101,
      "outputs": [
        {
          "output_type": "execute_result",
          "data": {
            "text/html": [
              "<div>\n",
              "<style scoped>\n",
              "    .dataframe tbody tr th:only-of-type {\n",
              "        vertical-align: middle;\n",
              "    }\n",
              "\n",
              "    .dataframe tbody tr th {\n",
              "        vertical-align: top;\n",
              "    }\n",
              "\n",
              "    .dataframe thead th {\n",
              "        text-align: right;\n",
              "    }\n",
              "</style>\n",
              "<table border=\"1\" class=\"dataframe\">\n",
              "  <thead>\n",
              "    <tr style=\"text-align: right;\">\n",
              "      <th></th>\n",
              "      <th>source</th>\n",
              "      <th>target</th>\n",
              "      <th>edge</th>\n",
              "    </tr>\n",
              "  </thead>\n",
              "  <tbody>\n",
              "    <tr>\n",
              "      <th>0</th>\n",
              "      <td>bit  I</td>\n",
              "      <td>later pregnancy test</td>\n",
              "      <td>took</td>\n",
              "    </tr>\n",
              "    <tr>\n",
              "      <th>1</th>\n",
              "      <td>I</td>\n",
              "      <td>lot</td>\n",
              "      <td>is</td>\n",
              "    </tr>\n",
              "    <tr>\n",
              "      <th>2</th>\n",
              "      <td>severe  light</td>\n",
              "      <td>appetite</td>\n",
              "      <td>etc</td>\n",
              "    </tr>\n",
              "    <tr>\n",
              "      <th>3</th>\n",
              "      <td>major  I</td>\n",
              "      <td>Best side effects</td>\n",
              "      <td>thing</td>\n",
              "    </tr>\n",
              "    <tr>\n",
              "      <th>4</th>\n",
              "      <td>hypo  I</td>\n",
              "      <td>20  anxiety</td>\n",
              "      <td>take</td>\n",
              "    </tr>\n",
              "    <tr>\n",
              "      <th>5</th>\n",
              "      <td>time  I</td>\n",
              "      <td>remission</td>\n",
              "      <td>Nope</td>\n",
              "    </tr>\n",
              "    <tr>\n",
              "      <th>6</th>\n",
              "      <td>I</td>\n",
              "      <td>that</td>\n",
              "      <td>yeah</td>\n",
              "    </tr>\n",
              "    <tr>\n",
              "      <th>7</th>\n",
              "      <td>medical  you</td>\n",
              "      <td>medical  help</td>\n",
              "      <td>is</td>\n",
              "    </tr>\n",
              "    <tr>\n",
              "      <th>8</th>\n",
              "      <td>tomorrow  It039s</td>\n",
              "      <td>sleepless  me</td>\n",
              "      <td>going</td>\n",
              "    </tr>\n",
              "    <tr>\n",
              "      <th>9</th>\n",
              "      <td>life</td>\n",
              "      <td>10  mins</td>\n",
              "      <td>transformed</td>\n",
              "    </tr>\n",
              "  </tbody>\n",
              "</table>\n",
              "</div>"
            ],
            "text/plain": [
              "             source                target         edge\n",
              "0            bit  I  later pregnancy test         took\n",
              "1                 I                   lot           is\n",
              "2     severe  light              appetite          etc\n",
              "3          major  I     Best side effects        thing\n",
              "4           hypo  I           20  anxiety         take\n",
              "5           time  I             remission         Nope\n",
              "6                 I                  that         yeah\n",
              "7      medical  you         medical  help           is\n",
              "8  tomorrow  It039s         sleepless  me        going\n",
              "9              life              10  mins  transformed"
            ]
          },
          "metadata": {},
          "execution_count": 101
        }
      ]
    },
    {
      "cell_type": "code",
      "metadata": {
        "colab": {
          "base_uri": "https://localhost:8080/",
          "height": 895
        },
        "id": "thOeM9NvJFQb",
        "outputId": "1201d4b9-5216-46a9-b22b-541089606cad"
      },
      "source": [
        "G=nx.from_pandas_edgelist(kg_df[kg_df['edge']==\"effects\"], \"source\", \"target\", \n",
        "                          edge_attr=True, create_using=nx.MultiDiGraph())\n",
        "\n",
        "plt.figure(figsize=(12,12))\n",
        "pos = nx.spring_layout(G, k = 0.5) # k regulates the distance between nodes\n",
        "nx.draw(G, with_labels=True, node_color='skyblue', node_size=1500, edge_cmap=plt.cm.Blues, pos = pos)\n",
        "plt.show()"
      ],
      "execution_count": 49,
      "outputs": [
        {
          "output_type": "display_data",
          "data": {
            "image/png": "[encoded data removed]",
            "text/plain": [
              "<Figure size 864x864 with 1 Axes>"
            ]
          },
          "metadata": {}
        }
      ]
    },
    {
      "cell_type": "code",
      "metadata": {
        "colab": {
          "base_uri": "https://localhost:8080/",
          "height": 895
        },
        "id": "ZvhQMpf9JFUA",
        "outputId": "e544a604-c20c-40e4-b67f-556eebdb7bcd"
      },
      "source": [
        "G=nx.from_pandas_edgelist(kg_df[kg_df['edge']==\"take\"], \"source\", \"target\", \n",
        "                          edge_attr=True, create_using=nx.MultiDiGraph())\n",
        "\n",
        "plt.figure(figsize=(12,12))\n",
        "pos = nx.spring_layout(G, k = 0.5)\n",
        "nx.draw(G, with_labels=True, node_color='skyblue', node_size=1500, edge_cmap=plt.cm.Blues, pos = pos)\n",
        "plt.show()"
      ],
      "execution_count": 50,
      "outputs": [
        {
          "output_type": "display_data",
          "data": {
            "image/png": "[encoded data removed]",
            "text/plain": [
              "<Figure size 864x864 with 1 Axes>"
            ]
          },
          "metadata": {}
        }
      ]
    },
    {
      "cell_type": "code",
      "metadata": {
        "colab": {
          "base_uri": "https://localhost:8080/",
          "height": 895
        },
        "id": "J-oHbbvIJFXz",
        "outputId": "5c3fc670-577f-43a4-8074-ceaf72c26ac2"
      },
      "source": [
        "G=nx.from_pandas_edgelist(kg_df[kg_df['edge']==\"pregnant\"], \"source\", \"target\", \n",
        "                          edge_attr=True, create_using=nx.MultiDiGraph())\n",
        "\n",
        "plt.figure(figsize=(12,12))\n",
        "pos = nx.spring_layout(G, k = 0.5)\n",
        "nx.draw(G, with_labels=True, node_color='skyblue', node_size=1500, edge_cmap=plt.cm.Blues, pos = pos)\n",
        "plt.show()"
      ],
      "execution_count": 51,
      "outputs": [
        {
          "output_type": "display_data",
          "data": {
            "image/png": "[encoded data removed]",
            "text/plain": [
              "<Figure size 864x864 with 1 Axes>"
            ]
          },
          "metadata": {}
        }
      ]
    },
    {
      "cell_type": "code",
      "metadata": {
        "id": "jKFyExRjJFav"
      },
      "source": [
        ""
      ],
      "execution_count": null,
      "outputs": []
    },
    {
      "cell_type": "code",
      "metadata": {
        "id": "zqGp39roJFdx"
      },
      "source": [
        "entity_pairs = []\n",
        "\n",
        "entity_pairs.append(get_entities(candidate_sentences[\"review\"].loc[1]))"
      ],
      "execution_count": 75,
      "outputs": []
    },
    {
      "cell_type": "code",
      "metadata": {
        "colab": {
          "base_uri": "https://localhost:8080/"
        },
        "id": "m2PHnIXikhff",
        "outputId": "0cb63209-885f-4a27-aa92-4d9af571102b"
      },
      "source": [
        "entity_pairs"
      ],
      "execution_count": 76,
      "outputs": [
        {
          "output_type": "execute_result",
          "data": {
            "text/plain": [
              "[['Only side I', 'lot']]"
            ]
          },
          "metadata": {},
          "execution_count": 76
        }
      ]
    },
    {
      "cell_type": "code",
      "metadata": {
        "colab": {
          "base_uri": "https://localhost:8080/"
        },
        "id": "zmizAN5OkWTp",
        "outputId": "12945acf-cacf-4e9d-b074-0d62f0f2662a"
      },
      "source": [
        "relations = get_relation(candidate_sentences[\"review\"].loc[1])\n",
        "\n",
        "pd.Series(relations).value_counts()[:50]"
      ],
      "execution_count": 77,
      "outputs": [
        {
          "output_type": "execute_result",
          "data": {
            "text/plain": [
              "is    1\n",
              "dtype: int64"
            ]
          },
          "metadata": {},
          "execution_count": 77
        }
      ]
    },
    {
      "cell_type": "code",
      "metadata": {
        "id": "MPGQfXnUkWW9"
      },
      "source": [
        "# extract subject\n",
        "source = [i[0] for i in entity_pairs]\n",
        "\n",
        "# extract object\n",
        "target = [i[1] for i in entity_pairs]\n",
        "\n",
        "kg_df = pd.DataFrame({'source':source, 'target':target, 'edge':relations})"
      ],
      "execution_count": 78,
      "outputs": []
    },
    {
      "cell_type": "code",
      "metadata": {
        "id": "PGNH1SJ6kWab"
      },
      "source": [
        "# create a directed-graph from a dataframe\n",
        "G=nx.from_pandas_edgelist(kg_df, \"source\", \"target\", \n",
        "                          edge_attr=True, create_using=nx.MultiDiGraph())"
      ],
      "execution_count": 79,
      "outputs": []
    },
    {
      "cell_type": "code",
      "metadata": {
        "colab": {
          "base_uri": "https://localhost:8080/",
          "height": 895
        },
        "id": "Jfs83BI1kWeK",
        "outputId": "80f0f5fe-ccd4-4d20-c276-5cb6551e6a45"
      },
      "source": [
        "plt.figure(figsize=(12,12))\n",
        "\n",
        "pos = nx.spring_layout(G)\n",
        "nx.draw(G, with_labels=True, node_color='skyblue', edge_cmap=plt.cm.Blues, pos = pos)\n",
        "plt.show()"
      ],
      "execution_count": 80,
      "outputs": [
        {
          "output_type": "display_data",
          "data": {
            "image/png": "[encoded data removed]",
            "text/plain": [
              "<Figure size 864x864 with 1 Axes>"
            ]
          },
          "metadata": {}
        }
      ]
    },
    {
      "cell_type": "code",
      "metadata": {
        "colab": {
          "base_uri": "https://localhost:8080/",
          "height": 111
        },
        "id": "KrKcxHrIlhc_",
        "outputId": "41024ca6-efa9-4a73-d799-40b7a8115323"
      },
      "source": [
        "candidate_sentences[\"review\"].loc[1]"
      ],
      "execution_count": 81,
      "outputs": [
        {
          "output_type": "execute_result",
          "data": {
            "application/vnd.google.colaboratory.intrinsic+json": {
              "type": "string"
            },
            "text/plain": [
              "'Abilify changed my life There is hope I was on Zoloft and Clonidine when I first started Abilify at the age of 15 Zoloft for depression and Clondine to manage my complete rage My moods were out of control I was depressed and hopeless one second and then mean irrational and full of rage the next My Dr prescribed me 2mg of Abilify and from that point on I feel like I have been cured though I know I039m not Bipolar disorder is a constant battle I know Abilify works for me because I have tried to get off it and lost complete control over my emotions Went back on it and I was golden again  I am on 5mg 2x daily I am now 21 and better than I have ever been in the past Only side effect is I like to eat a lot'"
            ]
          },
          "metadata": {},
          "execution_count": 81
        }
      ]
    },
    {
      "cell_type": "code",
      "metadata": {
        "id": "AfSdFsYLlhgL"
      },
      "source": [
        ""
      ],
      "execution_count": null,
      "outputs": []
    },
    {
      "cell_type": "code",
      "metadata": {
        "id": "ihAeHynnCGJG"
      },
      "source": [
        ""
      ],
      "execution_count": null,
      "outputs": []
    },
    {
      "cell_type": "markdown",
      "metadata": {
        "id": "0duvVsM1wNN2"
      },
      "source": [
        "##안해본거"
      ]
    },
    {
      "cell_type": "code",
      "metadata": {
        "id": "uXkDNw7cwPE-"
      },
      "source": [
        "# https://www.affde.com/ko/natural-language-processing-python-seo.html \n",
        "# https://zephyrnet.com/ko/bert%EB%A5%BC-%EC%82%AC%EC%9A%A9%ED%95%98%EC%97%AC-%EA%B5%AC%EC%A7%81%EC%9D%84%EC%9C%84%ED%95%9C-%EC%A7%80%EC%8B%9D-%EA%B7%B8%EB%9E%98%ED%94%84-%EA%B5%AC%EC%B6%95/ \n",
        "\n"
      ],
      "execution_count": null,
      "outputs": []
    }
  ]
}